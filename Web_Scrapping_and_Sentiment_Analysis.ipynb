{
  "nbformat": 4,
  "nbformat_minor": 0,
  "metadata": {
    "colab": {
      "provenance": []
    },
    "kernelspec": {
      "name": "python3",
      "display_name": "Python 3"
    },
    "language_info": {
      "name": "python"
    }
  },
  "cells": [
    {
      "cell_type": "markdown",
      "source": [
        "# Web Scrapping"
      ],
      "metadata": {
        "id": "1SLQOPaKC7BC"
      }
    },
    {
      "cell_type": "code",
      "execution_count": null,
      "metadata": {
        "id": "UHbQhgBW5hr3",
        "colab": {
          "base_uri": "https://localhost:8080/"
        },
        "outputId": "9aa8a027-1dcd-49e5-93d4-f49d4ce153f1"
      },
      "outputs": [
        {
          "output_type": "stream",
          "name": "stderr",
          "text": [
            "[nltk_data] Downloading package punkt to /root/nltk_data...\n",
            "[nltk_data]   Package punkt is already up-to-date!\n",
            "[nltk_data] Downloading package cmudict to /root/nltk_data...\n",
            "[nltk_data]   Package cmudict is already up-to-date!\n",
            "[nltk_data] Downloading package stopwords to /root/nltk_data...\n",
            "[nltk_data]   Unzipping corpora/stopwords.zip.\n"
          ]
        },
        {
          "output_type": "execute_result",
          "data": {
            "text/plain": [
              "True"
            ]
          },
          "metadata": {},
          "execution_count": 73
        }
      ],
      "source": [
        "import requests\n",
        "import html5lib\n",
        "import bs4\n",
        "from bs4 import BeautifulSoup\n",
        "import re\n",
        "import pandas as pd\n",
        "import os\n",
        "import chardet\n",
        "import nltk\n",
        "from nltk.tokenize import word_tokenize,sent_tokenize\n",
        "nltk.download('punkt')\n",
        "import string\n",
        "from nltk.corpus import cmudict\n",
        "nltk.download('cmudict')\n",
        "nltk.download('stopwords')"
      ]
    },
    {
      "cell_type": "code",
      "source": [
        "input = pd.read_excel('/content/drive/MyDrive/Blackcoffer/Input.xlsx')"
      ],
      "metadata": {
        "id": "1oBwPgzVDcZI"
      },
      "execution_count": null,
      "outputs": []
    },
    {
      "cell_type": "code",
      "source": [
        "URL = \"https://insights.blackcoffer.com/online-gaming-adolescent-online-gaming-effects-demotivated-depression-musculoskeletal-and-psychosomatic-symptoms/\"\n",
        "raw_html = requests.get(URL)\n",
        "\n",
        "soup = BeautifulSoup(raw_html.content, 'html5lib')"
      ],
      "metadata": {
        "id": "cJ-A_ufp50en"
      },
      "execution_count": null,
      "outputs": []
    },
    {
      "cell_type": "code",
      "source": [
        "# removing unnecessary tags - script/style/footer/head\n",
        "for i in soup.find_all(['script','style','footer','head']):\n",
        "    i.decompose()"
      ],
      "metadata": {
        "id": "CmSxVITdMoZk"
      },
      "execution_count": null,
      "outputs": []
    },
    {
      "cell_type": "code",
      "source": [
        "l = []\n",
        "# similarly to get all the occurrences of a given tag\n",
        "for text in soup.find('body').contents:\n",
        "\ttxt = text.get_text()\n",
        "\tl.append(txt)\n",
        "\n",
        "parsed_txt = '.'.join(l) # list to string\n",
        "parsed_txt"
      ],
      "metadata": {
        "id": "OJy2KfkKLQRL",
        "colab": {
          "base_uri": "https://localhost:8080/",
          "height": 139
        },
        "outputId": "cf6d08af-12c4-4132-fe88-dfb1f19dd860"
      },
      "execution_count": null,
      "outputs": [
        {
          "output_type": "execute_result",
          "data": {
            "text/plain": [
              "'\\n\\n            ..\\n    \\n    ..\\n.\\n    \\n        \\n        \\n            \\n            \\n                            \\n            \\n            \\n                \\n            \\n        \\n\\n        \\n                    \\n                \\n    \\n        Sign in\\n    \\n            \\n        \\n        \\n        \\n            Our Success Stories\\n\\n\\tBanking, Financials, Securities, and Insurance\\n\\tEnergy\\n\\tEntertainment\\n\\tFast Moving Consumer Goods\\n\\tGovernment & Think Tanks\\n\\tHealthcare\\n\\tInfrastructure & Real Estate\\n\\tIT\\n\\tLifestyle, eCommerce & Online Market Place\\n\\tProduction & Manufacturing\\n\\tResearch & Academia\\n\\tRetail & Supply Chain\\n\\tTelecom\\n\\n\\nWhat We Do\\n\\n\\tBanking, Financials, Securities, and Insurance\\n\\tEnergy\\n\\tEntertainment\\n\\tFast Moving Consumer Goods\\n\\tGovernment & Think Tanks\\n\\tHealthcare\\n\\tHospitality\\n\\tInfrastructure & Real Estate\\n\\tIT Services\\n\\tLifestyle, eCommerce & Online Market Place\\n\\tNews & Media\\n\\tProduction & Manufacturing\\n\\tResearch & Academia\\n\\tRetail & Supply Chain\\n\\n\\nWhat We Think\\n\\n\\tAutomobiles & Components\\n\\tBFSI\\n\\tAsset and Portfolio\\n\\tBanks\\n\\tCapital Markets\\n\\tDerivatives and Securities\\n\\tDiversified Financials\\n\\tFinance & Accounting\\n\\tInsurance\\n\\tSecurities and Capital Markets\\n\\tCapital Goods\\n\\tCommercial & Professional Services\\n\\tConsumer Discretionary\\n\\tConsumer Durables & Apparel\\n\\tConsumer Services\\n\\tConsumer Staples\\n\\tFood & Staples Retailing\\n\\tFood, Beverage & Tobacco\\n\\tHousehold & Personal Products\\n\\tData Science\\n\\tAnalytics\\n\\tArtificial Intelligence\\n\\tBig Data\\n\\tBusiness Analytics\\n\\tData Visualization\\n\\tInternet of Things\\n\\tMachine Learning\\n\\tStatistics\\n\\tEnergy\\n\\tDataOil\\n\\n\\nHow To\\n\\n\\tAnalytics\\n\\tApplication Development\\n\\tArtificial Intelligence\\n\\tBusiness Analytics\\n\\tExample\\n\\tOptimization\\n\\tProjects\\n\\tSoftware Development\\n\\tSource Code Audit\\n\\tStatistics\\n\\tWeb & Mobile App Development\\n\\n\\nSchedule Demo\\nContact\\n        \\n    \\n\\n    \\n            \\n            \\n            \\n            \\t\\n\\t            \\n\\t                \\n\\t                Sign in\\n\\t                \\n\\t\\t            \\n\\t\\t                \\n\\t\\t            \\n\\t            \\n\\t            \\n\\t                Welcome!Log into your account\\n\\t                \\n\\t                your username\\n\\t                your password\\n\\t                \\n\\t                \\n\\t\\t\\t\\t\\t\\n\\t                \\n\\t                Forgot your password?\\n\\t                \\n\\t                \\n\\t                \\n\\t                \\n\\t                \\n\\t                \\n\\n                \\n            \\n\\n            \\n            \\n            \\n            \\n            \\n                \\n\\t            \\n\\t                \\n\\t                Password recovery\\n\\t            \\n\\t            \\n\\t                Recover your password\\n\\t                \\n\\t                your email\\n\\t                \\n                \\n            \\n        \\n    .    ..\\n.\\n\\t\\n\\t\\t\\n\\t\\t\\t\\n\\t\\t\\t\\n\\t\\t\\t\\t\\n\\t\\t\\t\\n\\t\\t\\t\\n\\t\\t\\t\\tSearch\\n\\t\\t\\t\\t\\n\\t\\t\\t\\n\\t\\t\\n\\t\\t\\n\\t\\n.\\n\\n    .\\n    \\n                    \\n                                    \\n                        \\n\\n\\n\\n\\n\\n \\n\\n\\n \\n\\n\\n                     \\n                                    \\n                        \\n\\n\\n                    \\n                \\n                    \\n                        \\n\\n                \\n                    \\n                        \\n                        \\n                            Sign in\\n                            Welcome! Log into your account\\n                            \\n                            \\n                                your username\\n                                your password\\n                                \\n                                \\n                            \\n\\n                            \\n\\n                            Forgot your password? Get help\\n                            \\n                            \\n                            \\n                            \\n                        \\n\\n                        \\n\\n                         \\n                            Password recovery\\n                            Recover your password\\n                            \\n                            \\n                                your email\\n                                \\n                            \\n                            A password will be e-mailed to you.\\n                        \\n                        \\n                        \\n                    \\n                \\n                \\n\\n\\n\\n\\n\\n\\nFriday, April 19, 2024 \\n\\n\\n\\n\\n\\nSign in / Join \\n\\nOur Success Stories\\nWhat We Do\\nWhat We Think\\nHow To\\nSchedule Demo\\nContact\\n\\n\\nFacebookLinkedinTwitterYoutube\\n\\n\\n\\n\\n \\n\\n\\n\\n\\n\\n\\n\\n\\nOur Success Stories\\n\\n\\t\\nAllBanking, Financials, Securities, and InsuranceEnergyEntertainmentFast Moving Consumer GoodsGovernment & Think TanksHealthcareInfrastructure & Real EstateITLifestyle, eCommerce & Online Market PlaceProduction & ManufacturingResearch & Academia\\n        \\n            \\n                                    \\n                        Our Success Stories                                                                    \\n                \\n                \\n                                        \\n                    Efficient Supply Chain Assessment: Overcoming Technical Hurdles for Web Application Development\\n                    \\n                                            \\n                                                        \\n                                                            \\n                                    \\n                                    March 17, 2024                                                                                                        \\n                                                    \\n                    \\n                    \\n                                    \\n            \\n        \\n\\n        \\n        \\n            \\n                                    \\n                        Our Success Stories                                                                    \\n                \\n                \\n                                        \\n                    Streamlined Integration: Interactive Brokers API with Python for Desktop Trading Application\\n                    \\n                                            \\n                                                        \\n                                                            \\n                                    \\n                                    March 17, 2024                                                                                                        \\n                                                    \\n                    \\n                    \\n                                    \\n            \\n        \\n\\n        \\n        \\n            \\n                                    \\n                        Our Success Stories                                                                    \\n                \\n                \\n                                        \\n                    Efficient Data Integration and User-Friendly Interface Development: Navigating Challenges in Web Application Deployment\\n                    \\n                                            \\n                                                        \\n                                                            \\n                                    \\n                                    March 17, 2024                                                                                                        \\n                                                    \\n                    \\n                    \\n                                    \\n            \\n        \\n\\n        \\n        \\n            \\n                                    \\n                        Our Success Stories                                                                    \\n                \\n                \\n                                        \\n                    Effective Management of Social Media Data Extraction: Strategies for Authentication, Security, and Reliability\\n                    \\n                                            \\n                                                        \\n                                                            \\n                                    \\n                                    March 17, 2024                                                                                                        \\n                                                    \\n                    \\n                    \\n                                    \\n            \\n        \\n\\n         \\n\\n\\nWhat We Do\\n\\n\\t\\nAllBanking, Financials, Securities, and InsuranceEnergyEntertainmentFast Moving Consumer GoodsGovernment & Think TanksHealthcareHospitalityInfrastructure & Real EstateIT ServicesLifestyle, eCommerce & Online Market PlaceNews & Media\\n        \\n            \\n                                    \\n                        What We Do                                                                    \\n                \\n                \\n                                        \\n                    AI Bot Audio to audio\\n                    \\n                                            \\n                                                        \\n                                                            \\n                                    \\n                                    April 3, 2024                                                                                                        \\n                                                    \\n                    \\n                    \\n                                    \\n            \\n        \\n\\n        \\n        \\n            \\n                                    \\n                        What We Do                                                                    \\n                \\n                \\n                                        \\n                    Methodology for ETL Discovery Tool using LLMA, OpenAI, Langchain\\n                    \\n                                            \\n                                                        \\n                                                            \\n                                    \\n                                    February 27, 2024                                                                                                        \\n                                                    \\n                    \\n                    \\n                                    \\n            \\n        \\n\\n        \\n        \\n            \\n                                    \\n                        What We Do                                                                    \\n                \\n                \\n                                        \\n                    Methodology for database discovery tool using openai, LLMA, Langchain\\n                    \\n                                            \\n                                                        \\n                                                            \\n                                    \\n                                    February 27, 2024                                                                                                        \\n                                                    \\n                    \\n                    \\n                                    \\n            \\n        \\n\\n        \\n        \\n            \\n                                    \\n                        What We Do                                                                    \\n                \\n                \\n                                        \\n                    Chatbot using VoiceFlow\\n                    \\n                                            \\n                                                        \\n                                                            \\n                                    \\n                                    February 15, 2024                                                                                                        \\n                                                    \\n                    \\n                    \\n                                    \\n            \\n        \\n\\n         \\n\\n\\nWhat We Think\\n\\n\\t\\nAllAutomobiles & ComponentsBFSIAsset and PortfolioBanksCapital MarketsDerivatives and SecuritiesDiversified FinancialsFinance & AccountingInsuranceSecurities and Capital MarketsCapital Goods\\n        \\n            \\n                                    \\n                        What We Think                                                                    \\n                \\n                \\n                                        \\n                    Rising IT cities and its impact on the economy, environment, infrastructure, and city life by the year 2040.\\n                    \\n                                            \\n                                                        \\n                                                            \\n                                    \\n                                    August 24, 2023                                                                                                        \\n                                                    \\n                    \\n                    \\n                                    \\n            \\n        \\n\\n        \\n        \\n            \\n                                    \\n                        What We Think                                                                    \\n                \\n                \\n                                        \\n                    Rising IT Cities and Their Impact on the Economy, Environment, Infrastructure, and City Life in Future\\n                    \\n                                            \\n                                                        \\n                                                            \\n                                    \\n                                    August 18, 2023                                                                                                        \\n                                                    \\n                    \\n                    \\n                                    \\n            \\n        \\n\\n        \\n        \\n            \\n                                    \\n                        What We Think                                                                    \\n                \\n                \\n                                        \\n                    Internet Demand’s Evolution, Communication Impact, and 2035’s Alternative Pathways\\n                    \\n                                            \\n                                                        \\n                                                            \\n                                    \\n                                    August 18, 2023                                                                                                        \\n                                                    \\n                    \\n                    \\n                                    \\n            \\n        \\n\\n        \\n        \\n            \\n                                    \\n                        What We Think                                                                    \\n                \\n                \\n                                        \\n                    Rise of Cybercrime and its Effect in upcoming Future\\n                    \\n                                            \\n                                                        \\n                                                            \\n                                    \\n                                    August 18, 2023                                                                                                        \\n                                                    \\n                    \\n                    \\n                                    \\n            \\n        \\n\\n         \\n\\n\\nHow To\\n\\n\\t\\nAllAnalyticsApplication DevelopmentArtificial IntelligenceBusiness AnalyticsExampleOptimizationProjectsSoftware DevelopmentSource Code AuditStatisticsWeb & Mobile App Development\\n        \\n            \\n                                    \\n                        What We Do                                                                    \\n                \\n                \\n                                        \\n                    AI/ML and Predictive Modeling\\n                    \\n                                            \\n                                                        \\n                                                            \\n                                    \\n                                    February 3, 2022                                                                                                        \\n                                                    \\n                    \\n                    \\n                                    \\n            \\n        \\n\\n        \\n        \\n            \\n                                    \\n                        Blackcoffer                                                                    \\n                \\n                \\n                                        \\n                    Solution for Contact Centre Problems\\n                    \\n                                            \\n                                                        \\n                                                            \\n                                    \\n                                    April 26, 2021                                                                                                        \\n                                                    \\n                    \\n                    \\n                                    \\n            \\n        \\n\\n        \\n        \\n            \\n                                    \\n                        How To                                                                    \\n                \\n                \\n                                        \\n                    How to Setup Custom Domain for Google App Engine Application?\\n                    \\n                                            \\n                                                        \\n                                                            \\n                                    \\n                                    February 13, 2021                                                                                                        \\n                                                    \\n                    \\n                    \\n                                    \\n            \\n        \\n\\n        \\n        \\n            \\n                                    \\n                        How To                                                                    \\n                \\n                \\n                                        \\n                    Code Review Checklist\\n                    \\n                                            \\n                                                        \\n                                                            \\n                                    \\n                                    April 10, 2020                                                                                                        \\n                                                    \\n                    \\n                    \\n                                    \\n            \\n        \\n\\n         \\n\\n\\nSchedule Demo\\nContact\\n\\n\\nSearch                     \\n                                \\n                    \\n\\n\\n                \\n            \\n            \\n\\n\\n\\n    \\n\\n        \\n            Home  What We Think  Online gaming: Adolescent online gaming effects demotivated, depression, musculoskeletal, and psychosomatic symptoms.\\n\\n\\t        \\n\\n\\t\\t        \\n\\n\\t                \\n\\n\\t                    BlackcofferData ScienceMachine LearningWhat We Think\\t                    Online gaming: Adolescent online gaming effects demotivated, depression, musculoskeletal, and psychosomatic symptoms.\\n\\n\\t                    \\n\\t                    \\n\\t                        By Ajay Bidyarthy -  \\t                        June 23, 2020\\t                        17522\\t                        \\t                    \\n\\n\\t                \\n\\n\\t\\t            \\n\\t\\t        \\n            \\n\\n        \\n\\n        \\n            \\n        \\n    \\n\\n    \\n        \\n                                    \\n                            \\n                                \\n    \\n\\n    \\n        \\nIntroduction\\xa0\\n\\n\\n\\nA video game is any software program that can be played on a computing device, such as a personal computer, gaming console, or mobile device. Video games have been in existence since the early 1970s and have become increasingly popular, spanning different mobile (smartphones, tablets) and stationary (computer or console) platforms. Advances, particularly in mobile devices, have given birth to social networks and group gaming\\n\\n\\n\\nAlthough the nature of gaming does not require physical stamina and therefore is not limited by factors such as age, gender, or fitness, it is most popular with adolescents. In 2018, the World Health Organization (WHO) classified gaming disorder in their International Classification of Diseases (ICD-11). The ICD-11 is a list of diseases and medical conditions that aids health professionals in making diagnoses and treatment plans for patients having various disorders. It should be noted that, the inclusion of gaming disorder in the ICD-11 by WHO has generated vigorous and sometimes contentious debate and discussion within the medical and mental health community. Although recognized as an area of clinical interest, the Diagnostic and Statistical Manual of Mental Disorders (DSM-5) published by the American Psychiatric Association suggests that more clinical research is required before Gaming Disorder is formally considered as a psychiatric disorder. Similarly, the WHO notes the inclusion of gaming disorder in ICD-11, to encourage more research into excessive gaming behavior, including its prevention and treatment.\\n\\n\\n\\nWhat is Online gaming disorder?\\n\\n\\n\\n2018 WHO draft 11th Revision of the ICD-11 denotes the disorder as a pattern of “digital-gaming” or “video-gaming” behavior characterized by impaired control over gaming activity, increasing priority given to gaming over other activities to the extent that gaming takes precedence over other interests and daily activities, and the continuation or escalation of gaming despite the occurrence of negative consequences.\\n\\n\\n\\nOnline Gaming disorder has the same similarities with Internet gaming disorder (IGD), which is a condition that the American Psychiatric Association (APA) noted in DSM-5 as an area in need of additional study. The APA does not currently recognize IGD as an official condition. For gaming disorder to be diagnosed, the WHO criteria require that the behavioral pattern of the gamer must be of sufficient severity that major and noticeable impairment and deterioration in personal, family, social, educational, occupational or other important areas of functioning is present for a minimum of 12 months.\\n\\n\\n\\nSigns and symptoms of Online gaming disorder\\n\\n\\n\\nAccording to the WHO definition, a person with online gaming disorder will demonstrate the following characteristics for at least 12 months; problems controlling control their gaming habits, seeing gaming as more important over other necessities and daily activities or work, continuing to engage in gaming even after its negative health and social problems has been identified or are evident. Further research shows that gaming disorders can also be linked to anxiety, depression, obesity, sleeping disorders, and stress. People who remain physically inactive for long periods because of gaming may also be at higher risk of obesity, sleep disorders, and other health-related issues, according to WHO [1].\\n\\n\\n\\nHealth consequences of video Online gaming\\n\\n\\n\\nVideo game-related health problems can cause continuous strain injuries, skin disorders, and other health issues. Other problems according to Shoja et al. (2007), include a condition that could be termed video game-provoked seizures in patients with pre-existing epilepsy. The following health consequences of video gaming have been reported.\\n\\n\\n\\nVision issues\\n\\n\\n\\nVideo game playing is associated with eye problems. Extensive and fixed staring at a video game screen causes eyestrain because the cornea, pupil, and iris are not biologically equipped for chronic heavy viewing of digital images from electronic devices. The visual system strain from frequent video game use over extended periods may result in headaches, dizziness, and in some cases, nausea and vomiting. Interestingly, there is some research that shows that gamers have an enhancement of spatial distribution of attention, compared with non-gamers. This somewhat predictable practice effect occurs with both peripheral and central visual attention. For sufferers of amblyopia (dimness or blurring of the eyesight due to a fault in transmission from the eye to the brain) video games may be helpful.\\n\\n\\n\\nMusculoskeletal problems\\n\\n\\n\\nPersistent gamers may also suffer from musculoskeletal problems. A survey of children indicated increased physical complaints associated with video game playing. Such complaints range from pain in the hands and wrists to back and neck. Furthermore, a case report involving a nine-year-old teenager referenced Playstation thumb. Playstation thumb is, characterized by numbness and a blister is caused by friction between the thumb and the controller from rapid and persistent gameplay. Using dermoscopy, dermatologists discovered hemorrhages and onycholysis (the loosening or separation of a fingernail) in a patient who presented with hyperkeratosis. Also, tendon injuries (tendinosis) of the hands and wrists from tendon overuse, is another health problem associated with video game playing. Furthermore, another case report in the New England Journal of Medicine reported a fracture of the base of the fifth metatarsal from people who play Wii video games. This condition has been termed (perhaps sarcastically), a Wii fracture. There are also postural problems associated with the persistent playing of video games, although, ergonomic measures (including chair to monitor position) could potentially improve postural problems associated with video game playing.\\n\\n\\n\\nObesity and overweight\\n\\n\\n\\nPlaying video games consistently has been associated with obesity. This is maybe related to the lack of physical activity in players. Alternatively, it could be that those who are less physically fit because of obesity gravitate towards less physically demanding activities, such as gaming. In either case, several studies have linked television and video games and increased Body Mass Index (BMI). It has been estimated that children in the United States spend 25% of their waking hours watching either television or playing video games. Furthermore, children who watch the most hours of television or play video games have the highest incidence of obesity. If video games are replacing physical activities and young people do not participate in physical recreation or see playing of video games as a form of recreation, this may be part of the link between times spent while playing video games and a rise in BMI in teenagers. Evidence for this potential link gains some support from a German study reporting that boys who spend no more than 1.5 hours per day engaged in television watching or playing video games, were 75.4% less likely to be overweight than those who spend more than 1.5 hours engaged in the same activity.\\n\\n\\n\\nIn a 2011 study, an association between video game activity and an increase of (mostly junk) food intake was reported. Specifically, single video game sessions caused an increase in food intake, regardless of appetite. It has also been suggested that active video game play using two popular gaming platforms has the opposite effect. Other researchers found no evidence that more active video games would result in a beneficial outcome although the study did demonstrate an increase in the amount of physical activity within the children receiving the active video games.\\n\\n\\n\\nSeizures (Epileptic)\\n\\n\\n\\nHealth concerns that video games may cause epileptic seizures started in the early 1980s. The first medically documented case of a video game-induced seizure was reported in 1981. In 1993, a story in the popular press (Sun newspaper) reported that a boy choked to death on his own vomit during a seizure triggered by playing a video game. Similar but less serious incidents were subsequently reported by news media around the world, ultimately motivating video game console manufacturers to include that epilepsy warnings in the instruction manuals for their gaming products. In 1994 it was reported that video games only cause seizures in people already predisposed to epilepsy and advised that people with a predisposition to epilepsy can greatly reduce the risk of a seizure by staying 10 feet or more away from the TV set and wearing sunglasses while playing video games. This is clearly an area in need of additional research.\\n\\n\\n\\nPrevention and treatment of online gaming disorder\\n\\n\\n\\nThe cost: benefit value of prevention versus treatment of addiction disorders has been known for many years. It is important and beneficial to make use of several types of strategies in combating gaming addictiveness or disorder. Effective strategies include: educating gamers about gaming behaviors and consequences on their mental health; treatment geared towards helping the gamer to control his/her urge for video games, recognizing and dealing with disturbing thoughts and learning how to cope without video games; intrapersonal and interpersonal counseling to help gamers to explore their identity, build self-esteem, and enhance their emotional intelligence outside the fictional world of gaming and learning communication and assertiveness skills needed in social interactions; family involvement, including counseling and discussion family and other relationships; and developing new lifestyles. The latter is particularly important and to paraphrase the well-known mantra of Alcoholics Anonymous, it’s all about, people, places, and things. To prevent the persistent playing of video games, people need to explore new activities, set new goals and metrics of achievements beyond video game scores.\\n\\n\\n\\nBlackcoffer Insights 18: Harsh Arya, Ajay Kumar Garg Engineering College Ghaziabad\\n    \\n\\n\\n    \\n\\n    RELATED ARTICLESMORE FROM AUTHOR\\n\\n\\t\\n\\n\\t\\n\\n        \\n            \\n                                            \\n            \\n                AI Bot Audio to audio            \\n        \\n        \\n\\t \\n\\n\\t\\n\\n        \\n            \\n                                            \\n            \\n                Efficient Supply Chain Assessment: Overcoming Technical Hurdles for Web Application Development            \\n        \\n        \\n\\t \\n\\n\\t\\n\\n        \\n            \\n                                            \\n            \\n                Streamlined Integration: Interactive Brokers API with Python for Desktop Trading Application            \\n        \\n        \\n\\t  \\n    \\n             \\n                                \\n                        \\n                        \\n                            \\n                                MOST POPULAR INSIGHTS\\n\\n\\t\\n\\n        \\n\\n        \\n        \\n            Power BI Dashboard on Operations, Transactions, and Marketing Data, embedding the...            \\n                                                May 14, 2022                            \\n        \\n\\n        \\n\\n        \\n\\t \\n\\n\\t\\n\\n        \\n\\n        \\n        \\n            Transalta: Migration of servers from VMware to AWS Client            \\n                                                January 16, 2020                            \\n        \\n\\n        \\n\\n        \\n\\t \\n\\n\\t\\n\\n        \\n\\n        \\n        \\n            What are the key policies that will mitigate the impacts of...            \\n                                                April 28, 2020                            \\n        \\n\\n        \\n\\n        \\n\\t \\n\\n\\t\\n\\n        \\n\\n        \\n        \\n            What is the future of mobile apps?            \\n                                                February 12, 2021                            \\n        \\n\\n        \\n\\n        \\n\\t Load more RECOMMENDED INSIGHTS\\n\\n\\t\\n\\n        \\n            \\n                                            \\n\\n            Steps to Meta-Analysis\\n        \\n\\n        \\n\\t \\n\\n\\t\\n\\n        \\n            \\n                                            \\n\\n            How COVID-19 is impacting payment preferences?\\n        \\n\\n        \\n\\t \\n\\n\\t\\n\\n        \\n            \\n                                            \\n\\n            Azure Data Lake and Power BI Dashboard\\n        \\n\\n        \\n\\t \\n\\n\\t\\n\\n        \\n            \\n                                            \\n\\n            Automated Orthopedic Case Report Generation: Harnessing Web Scraping and AI Integration\\n        \\n\\n        \\n\\t                              \\n                        \\n                             \\n     \\n \\n\\n\\n    \\n                \\n            \\n\\n\\n\\n\\n\\n\\n\\nLATEST INSIGHTS\\n        \\n            \\n                                    \\n                                                                                                                    \\n                \\n                \\n                                        \\n                    AI Bot Audio to audio\\n                    \\n                                            \\n                                                        \\n                                                            \\n                                                                                                            April 3, 2024                                                                                                        \\n                                                    \\n                    \\n                    \\n                    \\n                                    \\n            \\n        \\n\\n        \\n        \\n            \\n                                    \\n                                                                                                                    \\n                \\n                \\n                                        \\n                    Efficient Supply Chain Assessment: Overcoming Technical Hurdles for Web Application Development\\n                    \\n                                            \\n                                                        \\n                                                            \\n                                                                                                            March 17, 2024                                                                                                        \\n                                                    \\n                    \\n                    \\n                    \\n                                    \\n            \\n        \\n\\n        \\n        \\n            \\n                                    \\n                                                                                                                    \\n                \\n                \\n                                        \\n                    Streamlined Integration: Interactive Brokers API with Python for Desktop Trading Application\\n                    \\n                                            \\n                                                        \\n                                                            \\n                                                                                                            March 17, 2024                                                                                                        \\n                                                    \\n                    \\n                    \\n                    \\n                                    \\n            \\n        \\n\\n        \\n\\n\\nPOPULAR INSIGHTS\\n        \\n            \\n                                    \\n                                                                                                                    \\n                \\n                \\n                                        \\n                    AI Bot Audio to audio\\n                    \\n                                            \\n                                                        \\n                                                            \\n                                                                                                            April 3, 2024                                                                                                        \\n                                                    \\n                    \\n                    \\n                    \\n                                    \\n            \\n        \\n\\n        \\n        \\n            \\n                                    \\n                                                                                                                    \\n                \\n                \\n                                        \\n                    Efficient Supply Chain Assessment: Overcoming Technical Hurdles for Web Application Development\\n                    \\n                                            \\n                                                        \\n                                                            \\n                                                                                                            March 17, 2024                                                                                                        \\n                                                    \\n                    \\n                    \\n                    \\n                                    \\n            \\n        \\n\\n        \\n        \\n            \\n                                    \\n                                                                                                                    \\n                \\n                \\n                                        \\n                    Streamlined Integration: Interactive Brokers API with Python for Desktop Trading Application\\n                    \\n                                            \\n                                                        \\n                                                            \\n                                                                                                            March 17, 2024                                                                                                        \\n                                                    \\n                    \\n                    \\n                    \\n                                    \\n            \\n        \\n\\n        \\n\\n\\nPOPULAR INSIGHTS CATEGORYOur Success Stories197What We Think178Blackcoffer149IT78Artificial Intelligence53Healthcare52Big Data44Lifestyle, eCommerce & Online Market Place44\\n\\n\\n\\n\\n\\n\\n \\n\\n\\n\\nABOUT US\\n\\nWe provide intelligence, accelerate innovation and implement technology with extraordinary breadth and depth global insights into the big data,data-driven dashboards, applications development, and information management for organizations through combining unique, specialist services and high-lvel human expertise.\\n\\nContact us: hello@blackcoffer.com\\n\\n\\nFOLLOW US\\n\\nFacebookLinkedinTwitterYoutube\\n\\n\\n\\n\\n© All Right Reserved, Blackcoffer(OPC) Pvt. Ltd\\n\\n\\nOur Success Stories\\nWhat We Do\\nWhat We Think\\nHow To\\nSchedule Demo\\nContact\\n        \\n\\n    \\n    \\n..\\n\\n\\n\\n\\t\\t.\\n\\t\\t\\n\\n    ..\\n\\n    ..\\n.\\n.\\n.\\n.\\n.\\n.\\n.\\n.\\n.\\n.\\n.\\n    .\\n..\\n\\n.\\n\\n\\n\\n'"
            ],
            "application/vnd.google.colaboratory.intrinsic+json": {
              "type": "string"
            }
          },
          "metadata": {},
          "execution_count": 243
        }
      ]
    },
    {
      "cell_type": "code",
      "source": [
        "cleaned_txt = re.sub('\\s+',' ',parsed_txt) # remove extra white spaces \\s \\n \\t\n",
        "cleaned_txt.strip()"
      ],
      "metadata": {
        "colab": {
          "base_uri": "https://localhost:8080/",
          "height": 139
        },
        "id": "r_1K53cArv-2",
        "outputId": "74b86baf-a824-4f34-ecd9-f25ac3572671"
      },
      "execution_count": null,
      "outputs": [
        {
          "output_type": "execute_result",
          "data": {
            "text/plain": [
              "'.. .. . Sign in Our Success Stories Banking, Financials, Securities, and Insurance Energy Entertainment Fast Moving Consumer Goods Government & Think Tanks Healthcare Infrastructure & Real Estate IT Lifestyle, eCommerce & Online Market Place Production & Manufacturing Research & Academia Retail & Supply Chain Telecom What We Do Banking, Financials, Securities, and Insurance Energy Entertainment Fast Moving Consumer Goods Government & Think Tanks Healthcare Hospitality Infrastructure & Real Estate IT Services Lifestyle, eCommerce & Online Market Place News & Media Production & Manufacturing Research & Academia Retail & Supply Chain What We Think Automobiles & Components BFSI Asset and Portfolio Banks Capital Markets Derivatives and Securities Diversified Financials Finance & Accounting Insurance Securities and Capital Markets Capital Goods Commercial & Professional Services Consumer Discretionary Consumer Durables & Apparel Consumer Services Consumer Staples Food & Staples Retailing Food, Beverage & Tobacco Household & Personal Products Data Science Analytics Artificial Intelligence Big Data Business Analytics Data Visualization Internet of Things Machine Learning Statistics Energy DataOil How To Analytics Application Development Artificial Intelligence Business Analytics Example Optimization Projects Software Development Source Code Audit Statistics Web & Mobile App Development Schedule Demo Contact Sign in Welcome!Log into your account your username your password Forgot your password? Password recovery Recover your password your email . .. . Search . . Sign in Welcome! Log into your account your username your password Forgot your password? Get help Password recovery Recover your password your email A password will be e-mailed to you. Friday, April 19, 2024 Sign in / Join Our Success Stories What We Do What We Think How To Schedule Demo Contact FacebookLinkedinTwitterYoutube Our Success Stories AllBanking, Financials, Securities, and InsuranceEnergyEntertainmentFast Moving Consumer GoodsGovernment & Think TanksHealthcareInfrastructure & Real EstateITLifestyle, eCommerce & Online Market PlaceProduction & ManufacturingResearch & Academia Our Success Stories Efficient Supply Chain Assessment: Overcoming Technical Hurdles for Web Application Development March 17, 2024 Our Success Stories Streamlined Integration: Interactive Brokers API with Python for Desktop Trading Application March 17, 2024 Our Success Stories Efficient Data Integration and User-Friendly Interface Development: Navigating Challenges in Web Application Deployment March 17, 2024 Our Success Stories Effective Management of Social Media Data Extraction: Strategies for Authentication, Security, and Reliability March 17, 2024 What We Do AllBanking, Financials, Securities, and InsuranceEnergyEntertainmentFast Moving Consumer GoodsGovernment & Think TanksHealthcareHospitalityInfrastructure & Real EstateIT ServicesLifestyle, eCommerce & Online Market PlaceNews & Media What We Do AI Bot Audio to audio April 3, 2024 What We Do Methodology for ETL Discovery Tool using LLMA, OpenAI, Langchain February 27, 2024 What We Do Methodology for database discovery tool using openai, LLMA, Langchain February 27, 2024 What We Do Chatbot using VoiceFlow February 15, 2024 What We Think AllAutomobiles & ComponentsBFSIAsset and PortfolioBanksCapital MarketsDerivatives and SecuritiesDiversified FinancialsFinance & AccountingInsuranceSecurities and Capital MarketsCapital Goods What We Think Rising IT cities and its impact on the economy, environment, infrastructure, and city life by the year 2040. August 24, 2023 What We Think Rising IT Cities and Their Impact on the Economy, Environment, Infrastructure, and City Life in Future August 18, 2023 What We Think Internet Demand’s Evolution, Communication Impact, and 2035’s Alternative Pathways August 18, 2023 What We Think Rise of Cybercrime and its Effect in upcoming Future August 18, 2023 How To AllAnalyticsApplication DevelopmentArtificial IntelligenceBusiness AnalyticsExampleOptimizationProjectsSoftware DevelopmentSource Code AuditStatisticsWeb & Mobile App Development What We Do AI/ML and Predictive Modeling February 3, 2022 Blackcoffer Solution for Contact Centre Problems April 26, 2021 How To How to Setup Custom Domain for Google App Engine Application? February 13, 2021 How To Code Review Checklist April 10, 2020 Schedule Demo Contact Search Home What We Think Online gaming: Adolescent online gaming effects demotivated, depression, musculoskeletal, and psychosomatic symptoms. BlackcofferData ScienceMachine LearningWhat We Think Online gaming: Adolescent online gaming effects demotivated, depression, musculoskeletal, and psychosomatic symptoms. By Ajay Bidyarthy - June 23, 2020 17522 Introduction A video game is any software program that can be played on a computing device, such as a personal computer, gaming console, or mobile device. Video games have been in existence since the early 1970s and have become increasingly popular, spanning different mobile (smartphones, tablets) and stationary (computer or console) platforms. Advances, particularly in mobile devices, have given birth to social networks and group gaming Although the nature of gaming does not require physical stamina and therefore is not limited by factors such as age, gender, or fitness, it is most popular with adolescents. In 2018, the World Health Organization (WHO) classified gaming disorder in their International Classification of Diseases (ICD-11). The ICD-11 is a list of diseases and medical conditions that aids health professionals in making diagnoses and treatment plans for patients having various disorders. It should be noted that, the inclusion of gaming disorder in the ICD-11 by WHO has generated vigorous and sometimes contentious debate and discussion within the medical and mental health community. Although recognized as an area of clinical interest, the Diagnostic and Statistical Manual of Mental Disorders (DSM-5) published by the American Psychiatric Association suggests that more clinical research is required before Gaming Disorder is formally considered as a psychiatric disorder. Similarly, the WHO notes the inclusion of gaming disorder in ICD-11, to encourage more research into excessive gaming behavior, including its prevention and treatment. What is Online gaming disorder? 2018 WHO draft 11th Revision of the ICD-11 denotes the disorder as a pattern of “digital-gaming” or “video-gaming” behavior characterized by impaired control over gaming activity, increasing priority given to gaming over other activities to the extent that gaming takes precedence over other interests and daily activities, and the continuation or escalation of gaming despite the occurrence of negative consequences. Online Gaming disorder has the same similarities with Internet gaming disorder (IGD), which is a condition that the American Psychiatric Association (APA) noted in DSM-5 as an area in need of additional study. The APA does not currently recognize IGD as an official condition. For gaming disorder to be diagnosed, the WHO criteria require that the behavioral pattern of the gamer must be of sufficient severity that major and noticeable impairment and deterioration in personal, family, social, educational, occupational or other important areas of functioning is present for a minimum of 12 months. Signs and symptoms of Online gaming disorder According to the WHO definition, a person with online gaming disorder will demonstrate the following characteristics for at least 12 months; problems controlling control their gaming habits, seeing gaming as more important over other necessities and daily activities or work, continuing to engage in gaming even after its negative health and social problems has been identified or are evident. Further research shows that gaming disorders can also be linked to anxiety, depression, obesity, sleeping disorders, and stress. People who remain physically inactive for long periods because of gaming may also be at higher risk of obesity, sleep disorders, and other health-related issues, according to WHO [1]. Health consequences of video Online gaming Video game-related health problems can cause continuous strain injuries, skin disorders, and other health issues. Other problems according to Shoja et al. (2007), include a condition that could be termed video game-provoked seizures in patients with pre-existing epilepsy. The following health consequences of video gaming have been reported. Vision issues Video game playing is associated with eye problems. Extensive and fixed staring at a video game screen causes eyestrain because the cornea, pupil, and iris are not biologically equipped for chronic heavy viewing of digital images from electronic devices. The visual system strain from frequent video game use over extended periods may result in headaches, dizziness, and in some cases, nausea and vomiting. Interestingly, there is some research that shows that gamers have an enhancement of spatial distribution of attention, compared with non-gamers. This somewhat predictable practice effect occurs with both peripheral and central visual attention. For sufferers of amblyopia (dimness or blurring of the eyesight due to a fault in transmission from the eye to the brain) video games may be helpful. Musculoskeletal problems Persistent gamers may also suffer from musculoskeletal problems. A survey of children indicated increased physical complaints associated with video game playing. Such complaints range from pain in the hands and wrists to back and neck. Furthermore, a case report involving a nine-year-old teenager referenced Playstation thumb. Playstation thumb is, characterized by numbness and a blister is caused by friction between the thumb and the controller from rapid and persistent gameplay. Using dermoscopy, dermatologists discovered hemorrhages and onycholysis (the loosening or separation of a fingernail) in a patient who presented with hyperkeratosis. Also, tendon injuries (tendinosis) of the hands and wrists from tendon overuse, is another health problem associated with video game playing. Furthermore, another case report in the New England Journal of Medicine reported a fracture of the base of the fifth metatarsal from people who play Wii video games. This condition has been termed (perhaps sarcastically), a Wii fracture. There are also postural problems associated with the persistent playing of video games, although, ergonomic measures (including chair to monitor position) could potentially improve postural problems associated with video game playing. Obesity and overweight Playing video games consistently has been associated with obesity. This is maybe related to the lack of physical activity in players. Alternatively, it could be that those who are less physically fit because of obesity gravitate towards less physically demanding activities, such as gaming. In either case, several studies have linked television and video games and increased Body Mass Index (BMI). It has been estimated that children in the United States spend 25% of their waking hours watching either television or playing video games. Furthermore, children who watch the most hours of television or play video games have the highest incidence of obesity. If video games are replacing physical activities and young people do not participate in physical recreation or see playing of video games as a form of recreation, this may be part of the link between times spent while playing video games and a rise in BMI in teenagers. Evidence for this potential link gains some support from a German study reporting that boys who spend no more than 1.5 hours per day engaged in television watching or playing video games, were 75.4% less likely to be overweight than those who spend more than 1.5 hours engaged in the same activity. In a 2011 study, an association between video game activity and an increase of (mostly junk) food intake was reported. Specifically, single video game sessions caused an increase in food intake, regardless of appetite. It has also been suggested that active video game play using two popular gaming platforms has the opposite effect. Other researchers found no evidence that more active video games would result in a beneficial outcome although the study did demonstrate an increase in the amount of physical activity within the children receiving the active video games. Seizures (Epileptic) Health concerns that video games may cause epileptic seizures started in the early 1980s. The first medically documented case of a video game-induced seizure was reported in 1981. In 1993, a story in the popular press (Sun newspaper) reported that a boy choked to death on his own vomit during a seizure triggered by playing a video game. Similar but less serious incidents were subsequently reported by news media around the world, ultimately motivating video game console manufacturers to include that epilepsy warnings in the instruction manuals for their gaming products. In 1994 it was reported that video games only cause seizures in people already predisposed to epilepsy and advised that people with a predisposition to epilepsy can greatly reduce the risk of a seizure by staying 10 feet or more away from the TV set and wearing sunglasses while playing video games. This is clearly an area in need of additional research. Prevention and treatment of online gaming disorder The cost: benefit value of prevention versus treatment of addiction disorders has been known for many years. It is important and beneficial to make use of several types of strategies in combating gaming addictiveness or disorder. Effective strategies include: educating gamers about gaming behaviors and consequences on their mental health; treatment geared towards helping the gamer to control his/her urge for video games, recognizing and dealing with disturbing thoughts and learning how to cope without video games; intrapersonal and interpersonal counseling to help gamers to explore their identity, build self-esteem, and enhance their emotional intelligence outside the fictional world of gaming and learning communication and assertiveness skills needed in social interactions; family involvement, including counseling and discussion family and other relationships; and developing new lifestyles. The latter is particularly important and to paraphrase the well-known mantra of Alcoholics Anonymous, it’s all about, people, places, and things. To prevent the persistent playing of video games, people need to explore new activities, set new goals and metrics of achievements beyond video game scores. Blackcoffer Insights 18: Harsh Arya, Ajay Kumar Garg Engineering College Ghaziabad RELATED ARTICLESMORE FROM AUTHOR AI Bot Audio to audio Efficient Supply Chain Assessment: Overcoming Technical Hurdles for Web Application Development Streamlined Integration: Interactive Brokers API with Python for Desktop Trading Application MOST POPULAR INSIGHTS Power BI Dashboard on Operations, Transactions, and Marketing Data, embedding the... May 14, 2022 Transalta: Migration of servers from VMware to AWS Client January 16, 2020 What are the key policies that will mitigate the impacts of... April 28, 2020 What is the future of mobile apps? February 12, 2021 Load more RECOMMENDED INSIGHTS Steps to Meta-Analysis How COVID-19 is impacting payment preferences? Azure Data Lake and Power BI Dashboard Automated Orthopedic Case Report Generation: Harnessing Web Scraping and AI Integration LATEST INSIGHTS AI Bot Audio to audio April 3, 2024 Efficient Supply Chain Assessment: Overcoming Technical Hurdles for Web Application Development March 17, 2024 Streamlined Integration: Interactive Brokers API with Python for Desktop Trading Application March 17, 2024 POPULAR INSIGHTS AI Bot Audio to audio April 3, 2024 Efficient Supply Chain Assessment: Overcoming Technical Hurdles for Web Application Development March 17, 2024 Streamlined Integration: Interactive Brokers API with Python for Desktop Trading Application March 17, 2024 POPULAR INSIGHTS CATEGORYOur Success Stories197What We Think178Blackcoffer149IT78Artificial Intelligence53Healthcare52Big Data44Lifestyle, eCommerce & Online Market Place44 ABOUT US We provide intelligence, accelerate innovation and implement technology with extraordinary breadth and depth global insights into the big data,data-driven dashboards, applications development, and information management for organizations through combining unique, specialist services and high-lvel human expertise. Contact us: hello@blackcoffer.com FOLLOW US FacebookLinkedinTwitterYoutube © All Right Reserved, Blackcoffer(OPC) Pvt. Ltd Our Success Stories What We Do What We Think How To Schedule Demo Contact .. . .. .. . . . . . . . . . . . . .. .'"
            ],
            "application/vnd.google.colaboratory.intrinsic+json": {
              "type": "string"
            }
          },
          "metadata": {},
          "execution_count": 244
        }
      ]
    },
    {
      "cell_type": "code",
      "source": [
        "header_split_pattern = 'By Ajay Bidyarthy -'\n",
        "footer_split_pattern = 'Blackcoffer Insights'"
      ],
      "metadata": {
        "id": "P1fQEAUa3xjc"
      },
      "execution_count": null,
      "outputs": []
    },
    {
      "cell_type": "code",
      "source": [
        "# Split at endpoints of the main body text\n",
        "# endpoint 1 : By Ajay Bidyarthy -   # Before this all text is header\n",
        "# endpoint 2 : Blackcoffer Insights  # After this all text is footer\n",
        "\n",
        "header_split_text = re.split(header_split_pattern,cleaned_txt)\n",
        "body_text_without_header = header_split_text[-1]\n",
        "\n",
        "footer_split_text = re.split(footer_split_pattern,body_text_without_header)\n",
        "main_text = footer_split_text[0].strip() # main body text without header and footer (Article Title and Text)"
      ],
      "metadata": {
        "id": "n-EQtPxLuLuO"
      },
      "execution_count": null,
      "outputs": []
    },
    {
      "cell_type": "code",
      "source": [
        "main_text"
      ],
      "metadata": {
        "colab": {
          "base_uri": "https://localhost:8080/",
          "height": 139
        },
        "id": "Lj5BzBbn39pj",
        "outputId": "4ae36e79-5f85-486d-ba6d-e9c988710f37"
      },
      "execution_count": null,
      "outputs": [
        {
          "output_type": "execute_result",
          "data": {
            "text/plain": [
              "'June 23, 2020 17522 Introduction A video game is any software program that can be played on a computing device, such as a personal computer, gaming console, or mobile device. Video games have been in existence since the early 1970s and have become increasingly popular, spanning different mobile (smartphones, tablets) and stationary (computer or console) platforms. Advances, particularly in mobile devices, have given birth to social networks and group gaming Although the nature of gaming does not require physical stamina and therefore is not limited by factors such as age, gender, or fitness, it is most popular with adolescents. In 2018, the World Health Organization (WHO) classified gaming disorder in their International Classification of Diseases (ICD-11). The ICD-11 is a list of diseases and medical conditions that aids health professionals in making diagnoses and treatment plans for patients having various disorders. It should be noted that, the inclusion of gaming disorder in the ICD-11 by WHO has generated vigorous and sometimes contentious debate and discussion within the medical and mental health community. Although recognized as an area of clinical interest, the Diagnostic and Statistical Manual of Mental Disorders (DSM-5) published by the American Psychiatric Association suggests that more clinical research is required before Gaming Disorder is formally considered as a psychiatric disorder. Similarly, the WHO notes the inclusion of gaming disorder in ICD-11, to encourage more research into excessive gaming behavior, including its prevention and treatment. What is Online gaming disorder? 2018 WHO draft 11th Revision of the ICD-11 denotes the disorder as a pattern of “digital-gaming” or “video-gaming” behavior characterized by impaired control over gaming activity, increasing priority given to gaming over other activities to the extent that gaming takes precedence over other interests and daily activities, and the continuation or escalation of gaming despite the occurrence of negative consequences. Online Gaming disorder has the same similarities with Internet gaming disorder (IGD), which is a condition that the American Psychiatric Association (APA) noted in DSM-5 as an area in need of additional study. The APA does not currently recognize IGD as an official condition. For gaming disorder to be diagnosed, the WHO criteria require that the behavioral pattern of the gamer must be of sufficient severity that major and noticeable impairment and deterioration in personal, family, social, educational, occupational or other important areas of functioning is present for a minimum of 12 months. Signs and symptoms of Online gaming disorder According to the WHO definition, a person with online gaming disorder will demonstrate the following characteristics for at least 12 months; problems controlling control their gaming habits, seeing gaming as more important over other necessities and daily activities or work, continuing to engage in gaming even after its negative health and social problems has been identified or are evident. Further research shows that gaming disorders can also be linked to anxiety, depression, obesity, sleeping disorders, and stress. People who remain physically inactive for long periods because of gaming may also be at higher risk of obesity, sleep disorders, and other health-related issues, according to WHO [1]. Health consequences of video Online gaming Video game-related health problems can cause continuous strain injuries, skin disorders, and other health issues. Other problems according to Shoja et al. (2007), include a condition that could be termed video game-provoked seizures in patients with pre-existing epilepsy. The following health consequences of video gaming have been reported. Vision issues Video game playing is associated with eye problems. Extensive and fixed staring at a video game screen causes eyestrain because the cornea, pupil, and iris are not biologically equipped for chronic heavy viewing of digital images from electronic devices. The visual system strain from frequent video game use over extended periods may result in headaches, dizziness, and in some cases, nausea and vomiting. Interestingly, there is some research that shows that gamers have an enhancement of spatial distribution of attention, compared with non-gamers. This somewhat predictable practice effect occurs with both peripheral and central visual attention. For sufferers of amblyopia (dimness or blurring of the eyesight due to a fault in transmission from the eye to the brain) video games may be helpful. Musculoskeletal problems Persistent gamers may also suffer from musculoskeletal problems. A survey of children indicated increased physical complaints associated with video game playing. Such complaints range from pain in the hands and wrists to back and neck. Furthermore, a case report involving a nine-year-old teenager referenced Playstation thumb. Playstation thumb is, characterized by numbness and a blister is caused by friction between the thumb and the controller from rapid and persistent gameplay. Using dermoscopy, dermatologists discovered hemorrhages and onycholysis (the loosening or separation of a fingernail) in a patient who presented with hyperkeratosis. Also, tendon injuries (tendinosis) of the hands and wrists from tendon overuse, is another health problem associated with video game playing. Furthermore, another case report in the New England Journal of Medicine reported a fracture of the base of the fifth metatarsal from people who play Wii video games. This condition has been termed (perhaps sarcastically), a Wii fracture. There are also postural problems associated with the persistent playing of video games, although, ergonomic measures (including chair to monitor position) could potentially improve postural problems associated with video game playing. Obesity and overweight Playing video games consistently has been associated with obesity. This is maybe related to the lack of physical activity in players. Alternatively, it could be that those who are less physically fit because of obesity gravitate towards less physically demanding activities, such as gaming. In either case, several studies have linked television and video games and increased Body Mass Index (BMI). It has been estimated that children in the United States spend 25% of their waking hours watching either television or playing video games. Furthermore, children who watch the most hours of television or play video games have the highest incidence of obesity. If video games are replacing physical activities and young people do not participate in physical recreation or see playing of video games as a form of recreation, this may be part of the link between times spent while playing video games and a rise in BMI in teenagers. Evidence for this potential link gains some support from a German study reporting that boys who spend no more than 1.5 hours per day engaged in television watching or playing video games, were 75.4% less likely to be overweight than those who spend more than 1.5 hours engaged in the same activity. In a 2011 study, an association between video game activity and an increase of (mostly junk) food intake was reported. Specifically, single video game sessions caused an increase in food intake, regardless of appetite. It has also been suggested that active video game play using two popular gaming platforms has the opposite effect. Other researchers found no evidence that more active video games would result in a beneficial outcome although the study did demonstrate an increase in the amount of physical activity within the children receiving the active video games. Seizures (Epileptic) Health concerns that video games may cause epileptic seizures started in the early 1980s. The first medically documented case of a video game-induced seizure was reported in 1981. In 1993, a story in the popular press (Sun newspaper) reported that a boy choked to death on his own vomit during a seizure triggered by playing a video game. Similar but less serious incidents were subsequently reported by news media around the world, ultimately motivating video game console manufacturers to include that epilepsy warnings in the instruction manuals for their gaming products. In 1994 it was reported that video games only cause seizures in people already predisposed to epilepsy and advised that people with a predisposition to epilepsy can greatly reduce the risk of a seizure by staying 10 feet or more away from the TV set and wearing sunglasses while playing video games. This is clearly an area in need of additional research. Prevention and treatment of online gaming disorder The cost: benefit value of prevention versus treatment of addiction disorders has been known for many years. It is important and beneficial to make use of several types of strategies in combating gaming addictiveness or disorder. Effective strategies include: educating gamers about gaming behaviors and consequences on their mental health; treatment geared towards helping the gamer to control his/her urge for video games, recognizing and dealing with disturbing thoughts and learning how to cope without video games; intrapersonal and interpersonal counseling to help gamers to explore their identity, build self-esteem, and enhance their emotional intelligence outside the fictional world of gaming and learning communication and assertiveness skills needed in social interactions; family involvement, including counseling and discussion family and other relationships; and developing new lifestyles. The latter is particularly important and to paraphrase the well-known mantra of Alcoholics Anonymous, it’s all about, people, places, and things. To prevent the persistent playing of video games, people need to explore new activities, set new goals and metrics of achievements beyond video game scores.'"
            ],
            "application/vnd.google.colaboratory.intrinsic+json": {
              "type": "string"
            }
          },
          "metadata": {},
          "execution_count": 247
        }
      ]
    },
    {
      "cell_type": "code",
      "source": [
        "# removing date and views which are\n",
        "# at the beginning of article text\n",
        "article_text = re.sub(r'(?:January|February|March|April|May|June|July|August|September|October|November|December)\\s+\\d{1,2},\\s+\\d{4}\\s+\\d+','',main_text)\n",
        "article_text"
      ],
      "metadata": {
        "id": "oDwQ7DMQFucj",
        "colab": {
          "base_uri": "https://localhost:8080/",
          "height": 139
        },
        "outputId": "57dd231a-0ff5-46a2-e412-77c52d1e7029"
      },
      "execution_count": null,
      "outputs": [
        {
          "output_type": "execute_result",
          "data": {
            "text/plain": [
              "' Introduction A video game is any software program that can be played on a computing device, such as a personal computer, gaming console, or mobile device. Video games have been in existence since the early 1970s and have become increasingly popular, spanning different mobile (smartphones, tablets) and stationary (computer or console) platforms. Advances, particularly in mobile devices, have given birth to social networks and group gaming Although the nature of gaming does not require physical stamina and therefore is not limited by factors such as age, gender, or fitness, it is most popular with adolescents. In 2018, the World Health Organization (WHO) classified gaming disorder in their International Classification of Diseases (ICD-11). The ICD-11 is a list of diseases and medical conditions that aids health professionals in making diagnoses and treatment plans for patients having various disorders. It should be noted that, the inclusion of gaming disorder in the ICD-11 by WHO has generated vigorous and sometimes contentious debate and discussion within the medical and mental health community. Although recognized as an area of clinical interest, the Diagnostic and Statistical Manual of Mental Disorders (DSM-5) published by the American Psychiatric Association suggests that more clinical research is required before Gaming Disorder is formally considered as a psychiatric disorder. Similarly, the WHO notes the inclusion of gaming disorder in ICD-11, to encourage more research into excessive gaming behavior, including its prevention and treatment. What is Online gaming disorder? 2018 WHO draft 11th Revision of the ICD-11 denotes the disorder as a pattern of “digital-gaming” or “video-gaming” behavior characterized by impaired control over gaming activity, increasing priority given to gaming over other activities to the extent that gaming takes precedence over other interests and daily activities, and the continuation or escalation of gaming despite the occurrence of negative consequences. Online Gaming disorder has the same similarities with Internet gaming disorder (IGD), which is a condition that the American Psychiatric Association (APA) noted in DSM-5 as an area in need of additional study. The APA does not currently recognize IGD as an official condition. For gaming disorder to be diagnosed, the WHO criteria require that the behavioral pattern of the gamer must be of sufficient severity that major and noticeable impairment and deterioration in personal, family, social, educational, occupational or other important areas of functioning is present for a minimum of 12 months. Signs and symptoms of Online gaming disorder According to the WHO definition, a person with online gaming disorder will demonstrate the following characteristics for at least 12 months; problems controlling control their gaming habits, seeing gaming as more important over other necessities and daily activities or work, continuing to engage in gaming even after its negative health and social problems has been identified or are evident. Further research shows that gaming disorders can also be linked to anxiety, depression, obesity, sleeping disorders, and stress. People who remain physically inactive for long periods because of gaming may also be at higher risk of obesity, sleep disorders, and other health-related issues, according to WHO [1]. Health consequences of video Online gaming Video game-related health problems can cause continuous strain injuries, skin disorders, and other health issues. Other problems according to Shoja et al. (2007), include a condition that could be termed video game-provoked seizures in patients with pre-existing epilepsy. The following health consequences of video gaming have been reported. Vision issues Video game playing is associated with eye problems. Extensive and fixed staring at a video game screen causes eyestrain because the cornea, pupil, and iris are not biologically equipped for chronic heavy viewing of digital images from electronic devices. The visual system strain from frequent video game use over extended periods may result in headaches, dizziness, and in some cases, nausea and vomiting. Interestingly, there is some research that shows that gamers have an enhancement of spatial distribution of attention, compared with non-gamers. This somewhat predictable practice effect occurs with both peripheral and central visual attention. For sufferers of amblyopia (dimness or blurring of the eyesight due to a fault in transmission from the eye to the brain) video games may be helpful. Musculoskeletal problems Persistent gamers may also suffer from musculoskeletal problems. A survey of children indicated increased physical complaints associated with video game playing. Such complaints range from pain in the hands and wrists to back and neck. Furthermore, a case report involving a nine-year-old teenager referenced Playstation thumb. Playstation thumb is, characterized by numbness and a blister is caused by friction between the thumb and the controller from rapid and persistent gameplay. Using dermoscopy, dermatologists discovered hemorrhages and onycholysis (the loosening or separation of a fingernail) in a patient who presented with hyperkeratosis. Also, tendon injuries (tendinosis) of the hands and wrists from tendon overuse, is another health problem associated with video game playing. Furthermore, another case report in the New England Journal of Medicine reported a fracture of the base of the fifth metatarsal from people who play Wii video games. This condition has been termed (perhaps sarcastically), a Wii fracture. There are also postural problems associated with the persistent playing of video games, although, ergonomic measures (including chair to monitor position) could potentially improve postural problems associated with video game playing. Obesity and overweight Playing video games consistently has been associated with obesity. This is maybe related to the lack of physical activity in players. Alternatively, it could be that those who are less physically fit because of obesity gravitate towards less physically demanding activities, such as gaming. In either case, several studies have linked television and video games and increased Body Mass Index (BMI). It has been estimated that children in the United States spend 25% of their waking hours watching either television or playing video games. Furthermore, children who watch the most hours of television or play video games have the highest incidence of obesity. If video games are replacing physical activities and young people do not participate in physical recreation or see playing of video games as a form of recreation, this may be part of the link between times spent while playing video games and a rise in BMI in teenagers. Evidence for this potential link gains some support from a German study reporting that boys who spend no more than 1.5 hours per day engaged in television watching or playing video games, were 75.4% less likely to be overweight than those who spend more than 1.5 hours engaged in the same activity. In a 2011 study, an association between video game activity and an increase of (mostly junk) food intake was reported. Specifically, single video game sessions caused an increase in food intake, regardless of appetite. It has also been suggested that active video game play using two popular gaming platforms has the opposite effect. Other researchers found no evidence that more active video games would result in a beneficial outcome although the study did demonstrate an increase in the amount of physical activity within the children receiving the active video games. Seizures (Epileptic) Health concerns that video games may cause epileptic seizures started in the early 1980s. The first medically documented case of a video game-induced seizure was reported in 1981. In 1993, a story in the popular press (Sun newspaper) reported that a boy choked to death on his own vomit during a seizure triggered by playing a video game. Similar but less serious incidents were subsequently reported by news media around the world, ultimately motivating video game console manufacturers to include that epilepsy warnings in the instruction manuals for their gaming products. In 1994 it was reported that video games only cause seizures in people already predisposed to epilepsy and advised that people with a predisposition to epilepsy can greatly reduce the risk of a seizure by staying 10 feet or more away from the TV set and wearing sunglasses while playing video games. This is clearly an area in need of additional research. Prevention and treatment of online gaming disorder The cost: benefit value of prevention versus treatment of addiction disorders has been known for many years. It is important and beneficial to make use of several types of strategies in combating gaming addictiveness or disorder. Effective strategies include: educating gamers about gaming behaviors and consequences on their mental health; treatment geared towards helping the gamer to control his/her urge for video games, recognizing and dealing with disturbing thoughts and learning how to cope without video games; intrapersonal and interpersonal counseling to help gamers to explore their identity, build self-esteem, and enhance their emotional intelligence outside the fictional world of gaming and learning communication and assertiveness skills needed in social interactions; family involvement, including counseling and discussion family and other relationships; and developing new lifestyles. The latter is particularly important and to paraphrase the well-known mantra of Alcoholics Anonymous, it’s all about, people, places, and things. To prevent the persistent playing of video games, people need to explore new activities, set new goals and metrics of achievements beyond video game scores.'"
            ],
            "application/vnd.google.colaboratory.intrinsic+json": {
              "type": "string"
            }
          },
          "metadata": {},
          "execution_count": 248
        }
      ]
    },
    {
      "cell_type": "code",
      "source": [
        "# extracting title through h1\n",
        "article_title = soup.find('h1').text\n",
        "article_title"
      ],
      "metadata": {
        "id": "i0UHyDTkF5QL",
        "colab": {
          "base_uri": "https://localhost:8080/",
          "height": 35
        },
        "outputId": "909cdc15-a649-44f9-d389-f9ca42337584"
      },
      "execution_count": null,
      "outputs": [
        {
          "output_type": "execute_result",
          "data": {
            "text/plain": [
              "'Online gaming: Adolescent online gaming effects demotivated, depression, musculoskeletal, and psychosomatic symptoms.'"
            ],
            "application/vnd.google.colaboratory.intrinsic+json": {
              "type": "string"
            }
          },
          "metadata": {},
          "execution_count": 249
        }
      ]
    },
    {
      "cell_type": "code",
      "source": [
        "# Whole article text\n",
        "whole_text = article_title+article_text"
      ],
      "metadata": {
        "id": "YvigIEO9G6K2"
      },
      "execution_count": null,
      "outputs": []
    },
    {
      "cell_type": "code",
      "source": [
        "whole_text"
      ],
      "metadata": {
        "colab": {
          "base_uri": "https://localhost:8080/",
          "height": 1000
        },
        "id": "eghXNKuuJwok",
        "outputId": "d018f201-d048-48ba-df31-881ef06b2f7b"
      },
      "execution_count": null,
      "outputs": [
        {
          "output_type": "execute_result",
          "data": {
            "text/plain": [
              "'Online gaming: Adolescent online gaming effects demotivated, depression, musculoskeletal, and psychosomatic symptoms. Introduction A video game is any software program that can be played on a computing device, such as a personal computer, gaming console, or mobile device. Video games have been in existence since the early 1970s and have become increasingly popular, spanning different mobile (smartphones, tablets) and stationary (computer or console) platforms. Advances, particularly in mobile devices, have given birth to social networks and group gaming Although the nature of gaming does not require physical stamina and therefore is not limited by factors such as age, gender, or fitness, it is most popular with adolescents. In 2018, the World Health Organization (WHO) classified gaming disorder in their International Classification of Diseases (ICD-11). The ICD-11 is a list of diseases and medical conditions that aids health professionals in making diagnoses and treatment plans for patients having various disorders. It should be noted that, the inclusion of gaming disorder in the ICD-11 by WHO has generated vigorous and sometimes contentious debate and discussion within the medical and mental health community. Although recognized as an area of clinical interest, the Diagnostic and Statistical Manual of Mental Disorders (DSM-5) published by the American Psychiatric Association suggests that more clinical research is required before Gaming Disorder is formally considered as a psychiatric disorder. Similarly, the WHO notes the inclusion of gaming disorder in ICD-11, to encourage more research into excessive gaming behavior, including its prevention and treatment. What is Online gaming disorder? 2018 WHO draft 11th Revision of the ICD-11 denotes the disorder as a pattern of “digital-gaming” or “video-gaming” behavior characterized by impaired control over gaming activity, increasing priority given to gaming over other activities to the extent that gaming takes precedence over other interests and daily activities, and the continuation or escalation of gaming despite the occurrence of negative consequences. Online Gaming disorder has the same similarities with Internet gaming disorder (IGD), which is a condition that the American Psychiatric Association (APA) noted in DSM-5 as an area in need of additional study. The APA does not currently recognize IGD as an official condition. For gaming disorder to be diagnosed, the WHO criteria require that the behavioral pattern of the gamer must be of sufficient severity that major and noticeable impairment and deterioration in personal, family, social, educational, occupational or other important areas of functioning is present for a minimum of 12 months. Signs and symptoms of Online gaming disorder According to the WHO definition, a person with online gaming disorder will demonstrate the following characteristics for at least 12 months; problems controlling control their gaming habits, seeing gaming as more important over other necessities and daily activities or work, continuing to engage in gaming even after its negative health and social problems has been identified or are evident. Further research shows that gaming disorders can also be linked to anxiety, depression, obesity, sleeping disorders, and stress. People who remain physically inactive for long periods because of gaming may also be at higher risk of obesity, sleep disorders, and other health-related issues, according to WHO [1]. Health consequences of video Online gaming Video game-related health problems can cause continuous strain injuries, skin disorders, and other health issues. Other problems according to Shoja et al. (2007), include a condition that could be termed video game-provoked seizures in patients with pre-existing epilepsy. The following health consequences of video gaming have been reported. Vision issues Video game playing is associated with eye problems. Extensive and fixed staring at a video game screen causes eyestrain because the cornea, pupil, and iris are not biologically equipped for chronic heavy viewing of digital images from electronic devices. The visual system strain from frequent video game use over extended periods may result in headaches, dizziness, and in some cases, nausea and vomiting. Interestingly, there is some research that shows that gamers have an enhancement of spatial distribution of attention, compared with non-gamers. This somewhat predictable practice effect occurs with both peripheral and central visual attention. For sufferers of amblyopia (dimness or blurring of the eyesight due to a fault in transmission from the eye to the brain) video games may be helpful. Musculoskeletal problems Persistent gamers may also suffer from musculoskeletal problems. A survey of children indicated increased physical complaints associated with video game playing. Such complaints range from pain in the hands and wrists to back and neck. Furthermore, a case report involving a nine-year-old teenager referenced Playstation thumb. Playstation thumb is, characterized by numbness and a blister is caused by friction between the thumb and the controller from rapid and persistent gameplay. Using dermoscopy, dermatologists discovered hemorrhages and onycholysis (the loosening or separation of a fingernail) in a patient who presented with hyperkeratosis. Also, tendon injuries (tendinosis) of the hands and wrists from tendon overuse, is another health problem associated with video game playing. Furthermore, another case report in the New England Journal of Medicine reported a fracture of the base of the fifth metatarsal from people who play Wii video games. This condition has been termed (perhaps sarcastically), a Wii fracture. There are also postural problems associated with the persistent playing of video games, although, ergonomic measures (including chair to monitor position) could potentially improve postural problems associated with video game playing. Obesity and overweight Playing video games consistently has been associated with obesity. This is maybe related to the lack of physical activity in players. Alternatively, it could be that those who are less physically fit because of obesity gravitate towards less physically demanding activities, such as gaming. In either case, several studies have linked television and video games and increased Body Mass Index (BMI). It has been estimated that children in the United States spend 25% of their waking hours watching either television or playing video games. Furthermore, children who watch the most hours of television or play video games have the highest incidence of obesity. If video games are replacing physical activities and young people do not participate in physical recreation or see playing of video games as a form of recreation, this may be part of the link between times spent while playing video games and a rise in BMI in teenagers. Evidence for this potential link gains some support from a German study reporting that boys who spend no more than 1.5 hours per day engaged in television watching or playing video games, were 75.4% less likely to be overweight than those who spend more than 1.5 hours engaged in the same activity. In a 2011 study, an association between video game activity and an increase of (mostly junk) food intake was reported. Specifically, single video game sessions caused an increase in food intake, regardless of appetite. It has also been suggested that active video game play using two popular gaming platforms has the opposite effect. Other researchers found no evidence that more active video games would result in a beneficial outcome although the study did demonstrate an increase in the amount of physical activity within the children receiving the active video games. Seizures (Epileptic) Health concerns that video games may cause epileptic seizures started in the early 1980s. The first medically documented case of a video game-induced seizure was reported in 1981. In 1993, a story in the popular press (Sun newspaper) reported that a boy choked to death on his own vomit during a seizure triggered by playing a video game. Similar but less serious incidents were subsequently reported by news media around the world, ultimately motivating video game console manufacturers to include that epilepsy warnings in the instruction manuals for their gaming products. In 1994 it was reported that video games only cause seizures in people already predisposed to epilepsy and advised that people with a predisposition to epilepsy can greatly reduce the risk of a seizure by staying 10 feet or more away from the TV set and wearing sunglasses while playing video games. This is clearly an area in need of additional research. Prevention and treatment of online gaming disorder The cost: benefit value of prevention versus treatment of addiction disorders has been known for many years. It is important and beneficial to make use of several types of strategies in combating gaming addictiveness or disorder. Effective strategies include: educating gamers about gaming behaviors and consequences on their mental health; treatment geared towards helping the gamer to control his/her urge for video games, recognizing and dealing with disturbing thoughts and learning how to cope without video games; intrapersonal and interpersonal counseling to help gamers to explore their identity, build self-esteem, and enhance their emotional intelligence outside the fictional world of gaming and learning communication and assertiveness skills needed in social interactions; family involvement, including counseling and discussion family and other relationships; and developing new lifestyles. The latter is particularly important and to paraphrase the well-known mantra of Alcoholics Anonymous, it’s all about, people, places, and things. To prevent the persistent playing of video games, people need to explore new activities, set new goals and metrics of achievements beyond video game scores.'"
            ],
            "application/vnd.google.colaboratory.intrinsic+json": {
              "type": "string"
            }
          },
          "metadata": {},
          "execution_count": 251
        }
      ]
    },
    {
      "cell_type": "code",
      "source": [
        "# Specify the file path\n",
        "file_path = \"example.txt\"\n",
        "\n",
        "# Open the file in write mode ('w')\n",
        "with open(file_path, 'w') as file:\n",
        "    # Write the text to the file\n",
        "    file.write(whole_text)"
      ],
      "metadata": {
        "id": "MHy0-JccJyiY"
      },
      "execution_count": null,
      "outputs": []
    },
    {
      "cell_type": "code",
      "source": [],
      "metadata": {
        "id": "isHOWiqaZcKR"
      },
      "execution_count": null,
      "outputs": []
    },
    {
      "cell_type": "markdown",
      "source": [
        "\n",
        "\n",
        "---\n",
        "\n",
        "\n",
        "\n",
        "---\n",
        "\n"
      ],
      "metadata": {
        "id": "l1jIwXwvxyNd"
      }
    },
    {
      "cell_type": "code",
      "source": [
        "output_folder = '/content/drive/MyDrive/Blackcoffer/Extracted Text/'"
      ],
      "metadata": {
        "id": "_SHmZUqtK58M"
      },
      "execution_count": null,
      "outputs": []
    },
    {
      "cell_type": "code",
      "source": [
        "header_split_pattern = 'By Ajay Bidyarthy -'\n",
        "footer_split_pattern = 'Blackcoffer Insights'\n",
        "\n",
        "for i in range(len(input)):\n",
        "    file_name = input['URL_ID'][i]\n",
        "    URL = input['URL'][i]\n",
        "\n",
        "    raw_html = requests.get(URL)\n",
        "    if raw_html.status_code == 404:\n",
        "        print(f\"{URL} with {file_name} URL_ID doesn't exist\")\n",
        "        continue\n",
        "\n",
        "    soup = BeautifulSoup(raw_html.content, 'html5lib')\n",
        "    # removing unnecessary tags - script/style/footer/head\n",
        "    for i in soup.find_all(['script','style','footer','head']):\n",
        "        i.decompose()\n",
        "\n",
        "    l = []\n",
        "    # similarly to get all the occurrences of a given tag\n",
        "    for text in soup.find('body').contents:\n",
        "        txt = text.get_text()\n",
        "        l.append(txt)\n",
        "\n",
        "    parsed_txt = '.'.join(l) # list to string\n",
        "\n",
        "    cleaned_txt = re.sub('\\s+',' ',parsed_txt) # remove extra white spaces \\s \\n \\t\n",
        "    cleaned_txt.strip()\n",
        "\n",
        "    # Split at endpoints of the main body text\n",
        "    # endpoint 1 : By Ajay Bidyarthy -   # Before this all text is header\n",
        "    # endpoint 2 : Blackcoffer Insights  # After this all text is footer\n",
        "\n",
        "    header_split_text = re.split(header_split_pattern,cleaned_txt)\n",
        "    body_text_without_header = header_split_text[-1]\n",
        "\n",
        "    footer_split_text = re.split(footer_split_pattern,body_text_without_header)\n",
        "    main_text = footer_split_text[0].strip() # main body text without header and footer (Article Text)\n",
        "\n",
        "    # removing date and views which are at the\n",
        "    # beginning of article text right after the title\n",
        "    article_text = re.sub(r'(?:January|February|March|April|May|June|July|August|September|October|November|December)\\s+\\d{1,2},\\s+\\d{4}\\s+\\d+','',main_text)\n",
        "\n",
        "    # extracting title through h1\n",
        "    article_title = soup.find('h1').text\n",
        "\n",
        "    punctuation_title = article_title[-1]\n",
        "\n",
        "    # Whole article text\n",
        "    if punctuation_title == '.' or punctuation_title == '?' or punctuation_title == '!':\n",
        "        whole_text = article_title + article_text\n",
        "    else:\n",
        "        whole_text = article_title + '.' + article_text\n",
        "\n",
        "    # Specify the file path\n",
        "    file_path = os.path.join(output_folder,f\"{file_name}.txt\")\n",
        "\n",
        "    # Open the file in write mode ('w')\n",
        "    with open(file_path, 'w') as file:\n",
        "        # Write the text to the file\n",
        "        file.write(whole_text)"
      ],
      "metadata": {
        "colab": {
          "base_uri": "https://localhost:8080/"
        },
        "id": "57nJLbX9K6Fw",
        "outputId": "1646b278-204f-4a5f-b18f-83760094dcf5"
      },
      "execution_count": null,
      "outputs": [
        {
          "output_type": "stream",
          "name": "stdout",
          "text": [
            "https://insights.blackcoffer.com/how-neural-networks-can-be-applied-in-various-areas-in-the-future/ with blackassign0036 URL_ID doesn't exist\n",
            "https://insights.blackcoffer.com/covid-19-environmental-impact-for-the-future/ with blackassign0049 URL_ID doesn't exist\n"
          ]
        }
      ]
    },
    {
      "cell_type": "code",
      "source": [
        "headers_not_trimmed = [14,20,29,43,92,99,100]"
      ],
      "metadata": {
        "id": "HFkOILWHjQnb"
      },
      "execution_count": null,
      "outputs": []
    },
    {
      "cell_type": "code",
      "source": [
        "header_split_pattern = 'By Ajay Bidyarthy'\n",
        "footer_split_pattern = 'Blackcoffer Insights'\n",
        "\n",
        "for i in headers_not_trimmed:\n",
        "    file_name = input['URL_ID'][i-1]\n",
        "    URL = input['URL'][i-1]\n",
        "\n",
        "    print(file_name)\n",
        "\n",
        "    raw_html = requests.get(URL)\n",
        "    if raw_html.status_code == 404:\n",
        "        print(f\"{URL} with {file_name} URL_ID doesn't exist\")\n",
        "        continue\n",
        "\n",
        "    soup = BeautifulSoup(raw_html.content, 'html5lib')\n",
        "    # removing unnecessary tags - script/style/footer/head\n",
        "    for i in soup.find_all(['script','style','footer','head']):\n",
        "        i.decompose()\n",
        "\n",
        "    l = []\n",
        "    # similarly to get all the occurrences of a given tag\n",
        "    for text in soup.find('body').contents:\n",
        "        txt = text.get_text()\n",
        "        l.append(txt)\n",
        "\n",
        "    parsed_txt = '.'.join(l) # list to string\n",
        "\n",
        "    cleaned_txt = re.sub('\\s+',' ',parsed_txt) # remove extra white spaces \\s \\n \\t\n",
        "    cleaned_txt.strip()\n",
        "\n",
        "    # Split at endpoints of the main body text\n",
        "    # endpoint 1 : By Ajay Bidyarthy     # Before this all text is header\n",
        "    # endpoint 2 : Blackcoffer Insights  # After this all text is footer\n",
        "\n",
        "    header_split_text = re.split(header_split_pattern,cleaned_txt)\n",
        "    body_text_without_header = header_split_text[-1]\n",
        "\n",
        "    footer_split_text = re.split(footer_split_pattern,body_text_without_header)\n",
        "    main_text = footer_split_text[0].strip() # main body text without header and footer (Article Text)\n",
        "\n",
        "    # removing date, views and social media handles which\n",
        "    # are at the beginning of article text right after the title\n",
        "    article_text = re.sub(r'(?:January|February|March|April|May|June|July|August|September|October|November|December)\\s+\\d{1,2},\\s+\\d{4}\\s+\\d+\\s+\\d+\\s+Share FacebookTwitterPinterestWhatsApp','',main_text)\n",
        "\n",
        "    # extracting title through h1\n",
        "    article_title = soup.find('h1').text\n",
        "\n",
        "    punctuation_title = article_title[-1]\n",
        "\n",
        "    # Whole article text\n",
        "    if punctuation_title == '.' or punctuation_title == '?' or punctuation_title == '!':\n",
        "        whole_text = article_title + article_text\n",
        "    else:\n",
        "        whole_text = article_title + '.' + article_text\n",
        "\n",
        "    # Specify the file path\n",
        "    file_path = os.path.join(output_folder,f\"{file_name}.txt\")\n",
        "\n",
        "    # Open the file in write mode ('w')\n",
        "    with open(file_path, 'w') as file:\n",
        "        # Write the text to the file\n",
        "        file.write(whole_text)"
      ],
      "metadata": {
        "id": "QkP8sr-xpI-w",
        "colab": {
          "base_uri": "https://localhost:8080/"
        },
        "outputId": "5cb759c8-85f9-4245-ec6d-291823f103e6"
      },
      "execution_count": null,
      "outputs": [
        {
          "output_type": "stream",
          "name": "stdout",
          "text": [
            "blackassign0014\n",
            "blackassign0020\n",
            "blackassign0029\n",
            "blackassign0043\n",
            "blackassign0092\n",
            "blackassign0099\n",
            "blackassign0100\n"
          ]
        }
      ]
    },
    {
      "cell_type": "code",
      "source": [
        "footers_not_trimmed = [46,47,93]"
      ],
      "metadata": {
        "id": "ab3JsLsVogB9"
      },
      "execution_count": null,
      "outputs": []
    },
    {
      "cell_type": "code",
      "source": [
        "header_split_pattern = 'By Ajay Bidyarthy -'\n",
        "footer_split_pattern = 'RELATED ARTICLESMORE'\n",
        "\n",
        "for i in footers_not_trimmed:\n",
        "    file_name = input['URL_ID'][i-1]\n",
        "    URL = input['URL'][i-1]\n",
        "\n",
        "    print(file_name)\n",
        "\n",
        "    raw_html = requests.get(URL)\n",
        "    if raw_html.status_code == 404:\n",
        "        print(f\"{URL} with {file_name} URL_ID doesn't exist\")\n",
        "        continue\n",
        "\n",
        "    soup = BeautifulSoup(raw_html.content, 'html5lib')\n",
        "    # removing unnecessary tags - script/style/footer/head\n",
        "    for i in soup.find_all(['script','style','footer','head']):\n",
        "        i.decompose()\n",
        "\n",
        "    l = []\n",
        "    # similarly to get all the occurrences of a given tag\n",
        "    for text in soup.find('body').contents:\n",
        "        txt = text.get_text()\n",
        "        l.append(txt)\n",
        "\n",
        "    parsed_txt = '.'.join(l) # list to string\n",
        "\n",
        "    cleaned_txt = re.sub('\\s+',' ',parsed_txt) # remove extra white spaces \\s \\n \\t\n",
        "    cleaned_txt.strip()\n",
        "\n",
        "    # Split at endpoints of the main body text\n",
        "    # endpoint 1 : By Ajay Bidyarthy -   # Before this all text is header\n",
        "    # endpoint 2 : RELATED ARTICLESMORE  # After this all text is footer\n",
        "\n",
        "    header_split_text = re.split(header_split_pattern,cleaned_txt)\n",
        "    body_text_without_header = header_split_text[-1]\n",
        "\n",
        "    footer_split_text = re.split(footer_split_pattern,body_text_without_header)\n",
        "    main_text = footer_split_text[0].strip() # main body text without header and footer (Article Text)\n",
        "\n",
        "    # removing date and views which are at the\n",
        "    # beginning of article text right after the title\n",
        "    article_text = re.sub(r'(?:January|February|March|April|May|June|July|August|September|October|November|December)\\s+\\d{1,2},\\s+\\d{4}\\s+\\d+','',main_text)\n",
        "\n",
        "    # extracting title through h1\n",
        "    article_title = soup.find('h1').text\n",
        "\n",
        "    punctuation_title = article_title[-1]\n",
        "\n",
        "    # Whole article text\n",
        "    if punctuation_title == '.' or punctuation_title == '?' or punctuation_title == '!':\n",
        "        whole_text = article_title + article_text\n",
        "    else:\n",
        "        whole_text = article_title + '.' + article_text\n",
        "\n",
        "    # Specify the file path\n",
        "    file_path = os.path.join(output_folder,f\"{file_name}.txt\")\n",
        "\n",
        "    # Open the file in write mode ('w')\n",
        "    with open(file_path, 'w') as file:\n",
        "        # Write the text to the file\n",
        "        file.write(whole_text)"
      ],
      "metadata": {
        "colab": {
          "base_uri": "https://localhost:8080/"
        },
        "id": "Uw4Il63KogE6",
        "outputId": "de6715fd-db36-4b0c-8b00-6ab0534a1530"
      },
      "execution_count": null,
      "outputs": [
        {
          "output_type": "stream",
          "name": "stdout",
          "text": [
            "blackassign0046\n",
            "blackassign0047\n",
            "blackassign0093\n"
          ]
        }
      ]
    },
    {
      "cell_type": "code",
      "source": [
        "headers_and_footers_not_trimmed = [83,84]"
      ],
      "metadata": {
        "id": "Ij_0OojVrLwx"
      },
      "execution_count": null,
      "outputs": []
    },
    {
      "cell_type": "code",
      "source": [
        "header_split_pattern = 'Share FacebookTwitterPinterestWhatsApp'\n",
        "footer_split_pattern = 'Share FacebookTwitterPinterestWhatsApp'\n",
        "\n",
        "for i in headers_and_footers_not_trimmed:\n",
        "    file_name = input['URL_ID'][i-1]\n",
        "    URL = input['URL'][i-1]\n",
        "\n",
        "    print(file_name)\n",
        "\n",
        "    raw_html = requests.get(URL)\n",
        "    if raw_html.status_code == 404:\n",
        "        print(f\"{URL} with {file_name} URL_ID doesn't exist\")\n",
        "        continue\n",
        "\n",
        "    soup = BeautifulSoup(raw_html.content, 'html5lib')\n",
        "    # removing unnecessary tags - script/style/footer/head\n",
        "    for i in soup.find_all(['script','style','footer','head']):\n",
        "        i.decompose()\n",
        "\n",
        "    l = []\n",
        "    # similarly to get all the occurrences of a given tag\n",
        "    for text in soup.find('body').contents:\n",
        "        txt = text.get_text()\n",
        "        l.append(txt)\n",
        "\n",
        "    parsed_txt = '.'.join(l) # list to string\n",
        "\n",
        "    cleaned_txt = re.sub('\\s+',' ',parsed_txt) # remove extra white spaces \\s \\n \\t\n",
        "    cleaned_txt.strip()\n",
        "\n",
        "    # Split at endpoints of the main body text\n",
        "    # endpoint 1 : Share FacebookTwitterPinterestWhatsApp  # Before this all text is header\n",
        "    # endpoint 2 : Share FacebookTwitterPinterestWhatsApp  # After this all text is footer\n",
        "\n",
        "    header_split_text = re.split(header_split_pattern,cleaned_txt)\n",
        "    body_text_without_header = header_split_text[1]\n",
        "\n",
        "    footer_split_text = re.split(footer_split_pattern,body_text_without_header)\n",
        "    main_text = footer_split_text[0].strip() # main body text without header and footer (Article Text)\n",
        "\n",
        "    # no text in the beginning of article\n",
        "    article_text = re.sub(r'','',main_text)\n",
        "\n",
        "    # extracting title through h1\n",
        "    article_title = soup.find('h1').text\n",
        "\n",
        "    punctuation_title = article_title[-1]\n",
        "\n",
        "    # Whole article text\n",
        "    if punctuation_title == '.' or punctuation_title == '?' or punctuation_title == '!':\n",
        "        whole_text = article_title + article_text\n",
        "    else:\n",
        "        whole_text = article_title + '.' + article_text\n",
        "\n",
        "    # Specify the file path\n",
        "    file_path = os.path.join(output_folder,f\"{file_name}.txt\")\n",
        "\n",
        "    # Open the file in write mode ('w')\n",
        "    with open(file_path, 'w') as file:\n",
        "        # Write the text to the file\n",
        "        file.write(whole_text)"
      ],
      "metadata": {
        "colab": {
          "base_uri": "https://localhost:8080/"
        },
        "id": "vy0O_ByjrLzP",
        "outputId": "21c139d0-49ff-4ebb-cf16-b43abdb5c8f0"
      },
      "execution_count": null,
      "outputs": [
        {
          "output_type": "stream",
          "name": "stdout",
          "text": [
            "blackassign0083\n",
            "blackassign0084\n"
          ]
        }
      ]
    },
    {
      "cell_type": "code",
      "source": [],
      "metadata": {
        "id": "IfQQBv7U4hXt"
      },
      "execution_count": null,
      "outputs": []
    },
    {
      "cell_type": "code",
      "source": [],
      "metadata": {
        "id": "7hh6vclZ5ANj"
      },
      "execution_count": null,
      "outputs": []
    },
    {
      "cell_type": "markdown",
      "source": [
        "\n",
        "\n",
        "---\n",
        "\n",
        "\n",
        "\n",
        "---\n",
        "\n",
        "\n",
        "\n",
        "---\n",
        "\n"
      ],
      "metadata": {
        "id": "Mttsz2dh6c04"
      }
    },
    {
      "cell_type": "code",
      "source": [
        "def Extract_Text(header_split_pattern,footer_split_pattern,begin_clean_pattern,file_index_list,input,code):\n",
        "\n",
        "    for i in file_index_list:\n",
        "        file_name = input['URL_ID'][i-1]\n",
        "        URL = input['URL'][i-1]\n",
        "\n",
        "        print(file_name)\n",
        "\n",
        "        raw_html = requests.get(URL)\n",
        "        if raw_html.status_code == 404:\n",
        "            print(f\"{URL} with {file_name} URL_ID doesn't exist\")\n",
        "            continue\n",
        "\n",
        "        soup = BeautifulSoup(raw_html.content, 'html5lib')\n",
        "        # removing unnecessary tags - script/style/footer/head\n",
        "        for i in soup.find_all(['script','style','footer','head']):\n",
        "            i.decompose()\n",
        "\n",
        "        l = []\n",
        "        # similarly to get all the occurrences of a given tag\n",
        "        for text in soup.find('body').contents:\n",
        "            txt = text.get_text()\n",
        "            l.append(txt)\n",
        "\n",
        "        parsed_txt = '.'.join(l) # list to string\n",
        "\n",
        "        cleaned_txt = re.sub('\\s+',' ',parsed_txt) # remove extra white spaces \\s \\n \\t\n",
        "        cleaned_txt.strip()\n",
        "\n",
        "        # Split at endpoints of the main body text\n",
        "        # endpoint 1 : header_split_pattern  # Before this all text is header\n",
        "        # endpoint 2 : footer_split_pattern  # After this all text is footer\n",
        "\n",
        "        header_split_text = re.split(header_split_pattern,cleaned_txt)\n",
        "        if code == 1: # Both header & footer diff from common pattern\n",
        "            body_text_without_header = header_split_text[1]\n",
        "        else:\n",
        "            body_text_without_header = header_split_text[-1]\n",
        "\n",
        "        footer_split_text = re.split(footer_split_pattern,body_text_without_header)\n",
        "        main_text = footer_split_text[0].strip() # main body text without header and footer (Article Text)\n",
        "\n",
        "        # removing date and views which are at the\n",
        "        # beginning of article text right after the title\n",
        "        article_text = re.sub(begin_clean_pattern,'',main_text)\n",
        "\n",
        "        # extracting title through h1\n",
        "        article_title = soup.find('h1').text\n",
        "\n",
        "        punctuation_title = article_title[-1]\n",
        "\n",
        "        # Whole article text\n",
        "        if punctuation_title == '.' or punctuation_title == '?' or punctuation_title == '!':\n",
        "            whole_text = article_title + article_text\n",
        "        else:\n",
        "            whole_text = article_title + '.' + article_text\n",
        "\n",
        "        # Specify the file path\n",
        "        file_path = os.path.join(output_folder,f\"{file_name}.txt\")\n",
        "\n",
        "        # Open the file in write mode ('w')\n",
        "        with open(file_path, 'w') as file:\n",
        "            # Write the text to the file\n",
        "            file.write(whole_text)"
      ],
      "metadata": {
        "id": "Ao_JQ22P641J"
      },
      "execution_count": null,
      "outputs": []
    },
    {
      "cell_type": "code",
      "source": [
        "# code == 0 : General pattern/Header different from general/Footer different from general\n",
        "# code == 1 : Both Header and Footer different from general"
      ],
      "metadata": {
        "id": "eGkVuhMU7czl"
      },
      "execution_count": null,
      "outputs": []
    },
    {
      "cell_type": "code",
      "source": [
        "# General or common pattern\n",
        "\n",
        "file_indx_list = [i for i in range(1,len(input)+1)]\n",
        "header_split_pattern = 'By Ajay Bidyarthy -'\n",
        "footer_split_pattern = 'Blackcoffer Insights'\n",
        "begin_clean_pattern = r'(?:January|February|March|April|May|June|July|August|September|October|November|December)\\s+\\d{1,2},\\s+\\d{4}\\s+\\d+'"
      ],
      "metadata": {
        "id": "-o6VKZ9h5AQU"
      },
      "execution_count": null,
      "outputs": []
    },
    {
      "cell_type": "code",
      "source": [
        "Extract_Text(header_split_pattern,footer_split_pattern,begin_clean_pattern,file_indx_list,input,0)"
      ],
      "metadata": {
        "colab": {
          "base_uri": "https://localhost:8080/"
        },
        "id": "ryV_hwQh6b8X",
        "outputId": "05468ee5-78f6-4891-f42e-9ab9600643b7"
      },
      "execution_count": null,
      "outputs": [
        {
          "output_type": "stream",
          "name": "stdout",
          "text": [
            "blackassign0001\n",
            "blackassign0002\n",
            "blackassign0003\n",
            "blackassign0004\n",
            "blackassign0005\n",
            "blackassign0006\n",
            "blackassign0007\n",
            "blackassign0008\n",
            "blackassign0009\n",
            "blackassign0010\n",
            "blackassign0011\n",
            "blackassign0012\n",
            "blackassign0013\n",
            "blackassign0014\n",
            "blackassign0015\n",
            "blackassign0016\n",
            "blackassign0017\n",
            "blackassign0018\n",
            "blackassign0019\n",
            "blackassign0020\n",
            "blackassign0021\n",
            "blackassign0022\n",
            "blackassign0023\n",
            "blackassign0024\n",
            "blackassign0025\n",
            "blackassign0026\n",
            "blackassign0027\n",
            "blackassign0028\n",
            "blackassign0029\n",
            "blackassign0030\n",
            "blackassign0031\n",
            "blackassign0032\n",
            "blackassign0033\n",
            "blackassign0034\n",
            "blackassign0035\n",
            "blackassign0036\n",
            "https://insights.blackcoffer.com/how-neural-networks-can-be-applied-in-various-areas-in-the-future/ with blackassign0036 URL_ID doesn't exist\n",
            "blackassign0037\n",
            "blackassign0038\n",
            "blackassign0039\n",
            "blackassign0040\n",
            "blackassign0041\n",
            "blackassign0042\n",
            "blackassign0043\n",
            "blackassign0044\n",
            "blackassign0045\n",
            "blackassign0046\n",
            "blackassign0047\n",
            "blackassign0048\n",
            "blackassign0049\n",
            "https://insights.blackcoffer.com/covid-19-environmental-impact-for-the-future/ with blackassign0049 URL_ID doesn't exist\n",
            "blackassign0050\n",
            "blackassign0051\n",
            "blackassign0052\n",
            "blackassign0053\n",
            "blackassign0054\n",
            "blackassign0055\n",
            "blackassign0056\n",
            "blackassign0057\n",
            "blackassign0058\n",
            "blackassign0059\n",
            "blackassign0060\n",
            "blackassign0061\n",
            "blackassign0062\n",
            "blackassign0063\n",
            "blackassign0064\n",
            "blackassign0065\n",
            "blackassign0066\n",
            "blackassign0067\n",
            "blackassign0068\n",
            "blackassign0069\n",
            "blackassign0070\n",
            "blackassign0071\n",
            "blackassign0072\n",
            "blackassign0073\n",
            "blackassign0074\n",
            "blackassign0075\n",
            "blackassign0076\n",
            "blackassign0077\n",
            "blackassign0078\n",
            "blackassign0079\n",
            "blackassign0080\n",
            "blackassign0081\n",
            "blackassign0082\n",
            "blackassign0083\n",
            "blackassign0084\n",
            "blackassign0085\n",
            "blackassign0086\n",
            "blackassign0087\n",
            "blackassign0088\n",
            "blackassign0089\n",
            "blackassign0090\n",
            "blackassign0091\n",
            "blackassign0092\n",
            "blackassign0093\n",
            "blackassign0094\n",
            "blackassign0095\n",
            "blackassign0096\n",
            "blackassign0097\n",
            "blackassign0098\n",
            "blackassign0099\n",
            "blackassign0100\n"
          ]
        }
      ]
    },
    {
      "cell_type": "code",
      "source": [
        "# For the URLs with URL_ID's - 14,20,29,43,92,99,100\n",
        "# Headers are different from common pattern\n",
        "\n",
        "headers_not_trimmed = [14,20,29,43,92,99,100]\n",
        "header_split_pattern = 'By Ajay Bidyarthy'\n",
        "footer_split_pattern = 'Blackcoffer Insights'\n",
        "begin_clean_pattern = r'(?:January|February|March|April|May|June|July|August|September|October|November|December)\\s+\\d{1,2},\\s+\\d{4}\\s+\\d+\\s+\\d+\\s+Share FacebookTwitterPinterestWhatsApp'"
      ],
      "metadata": {
        "id": "vz806KfQ5ATa"
      },
      "execution_count": null,
      "outputs": []
    },
    {
      "cell_type": "code",
      "source": [
        "Extract_Text(header_split_pattern,footer_split_pattern,begin_clean_pattern,headers_not_trimmed,input,0)"
      ],
      "metadata": {
        "colab": {
          "base_uri": "https://localhost:8080/"
        },
        "id": "ey4kIbCd6pNN",
        "outputId": "cc8963f1-67a7-4c84-db26-bd8dce4beef8"
      },
      "execution_count": null,
      "outputs": [
        {
          "output_type": "stream",
          "name": "stdout",
          "text": [
            "blackassign0014\n",
            "blackassign0020\n",
            "blackassign0029\n",
            "blackassign0043\n",
            "blackassign0092\n",
            "blackassign0099\n",
            "blackassign0100\n"
          ]
        }
      ]
    },
    {
      "cell_type": "code",
      "source": [
        "# For the URLs with URL_ID's - 46,47,93\n",
        "# Footers are different from common pattern\n",
        "\n",
        "footers_not_trimmed = [46,47,93]\n",
        "header_split_pattern = 'By Ajay Bidyarthy -'\n",
        "footer_split_pattern = 'RELATED ARTICLESMORE'\n",
        "begin_clean_pattern = r'(?:January|February|March|April|May|June|July|August|September|October|November|December)\\s+\\d{1,2},\\s+\\d{4}\\s+\\d+'"
      ],
      "metadata": {
        "id": "1ak6Kcec5AVh"
      },
      "execution_count": null,
      "outputs": []
    },
    {
      "cell_type": "code",
      "source": [
        "Extract_Text(header_split_pattern,footer_split_pattern,begin_clean_pattern,footers_not_trimmed,input,0)"
      ],
      "metadata": {
        "colab": {
          "base_uri": "https://localhost:8080/"
        },
        "id": "VfbG94aI6nYd",
        "outputId": "f2b52fe4-a27c-41c0-f624-7a9aed5de8cd"
      },
      "execution_count": null,
      "outputs": [
        {
          "output_type": "stream",
          "name": "stdout",
          "text": [
            "blackassign0046\n",
            "blackassign0047\n",
            "blackassign0093\n"
          ]
        }
      ]
    },
    {
      "cell_type": "code",
      "source": [
        "# For the URLs with URL_ID's - 83,84\n",
        "# Both Headers & Footers are different from common pattern\n",
        "\n",
        "headers_and_footers_not_trimmed = [83,84]\n",
        "header_split_pattern = 'Share FacebookTwitterPinterestWhatsApp'\n",
        "footer_split_pattern = 'Share FacebookTwitterPinterestWhatsApp'\n",
        "begin_clean_pattern = r''"
      ],
      "metadata": {
        "id": "59TB-Gc54haT"
      },
      "execution_count": null,
      "outputs": []
    },
    {
      "cell_type": "code",
      "source": [
        "Extract_Text(header_split_pattern,footer_split_pattern,begin_clean_pattern,headers_and_footers_not_trimmed,input,1)"
      ],
      "metadata": {
        "colab": {
          "base_uri": "https://localhost:8080/"
        },
        "id": "0du0sKl44QHF",
        "outputId": "5ab73a9c-890e-402c-9df0-d18a21c8ceb5"
      },
      "execution_count": null,
      "outputs": [
        {
          "output_type": "stream",
          "name": "stdout",
          "text": [
            "blackassign0083\n",
            "blackassign0084\n"
          ]
        }
      ]
    },
    {
      "cell_type": "markdown",
      "source": [
        "\n",
        "\n",
        "---\n",
        "\n",
        "\n",
        "\n",
        "---\n",
        "\n"
      ],
      "metadata": {
        "id": "wbwnsFWvDBYZ"
      }
    },
    {
      "cell_type": "markdown",
      "source": [
        "# Sentiment Analysis"
      ],
      "metadata": {
        "id": "VSa7ZeLVDBbT"
      }
    },
    {
      "cell_type": "code",
      "source": [
        "MasterDictionary = '/content/drive/MyDrive/Blackcoffer/MasterDictionary/'\n",
        "StopWords_path = '/content/drive/MyDrive/Blackcoffer/StopWords/'"
      ],
      "metadata": {
        "id": "YWTzxTdMEMvw"
      },
      "execution_count": null,
      "outputs": []
    },
    {
      "cell_type": "code",
      "source": [
        "os.listdir(MasterDictionary)"
      ],
      "metadata": {
        "colab": {
          "base_uri": "https://localhost:8080/"
        },
        "id": "MYjHtBTHEVQ5",
        "outputId": "7daeba88-23bf-454d-8f91-2f0dcc2fad7e"
      },
      "execution_count": null,
      "outputs": [
        {
          "output_type": "execute_result",
          "data": {
            "text/plain": [
              "['negative-words.txt', 'positive-words.txt']"
            ]
          },
          "metadata": {},
          "execution_count": 108
        }
      ]
    },
    {
      "cell_type": "code",
      "source": [
        "positive_words_list_path = os.path.join(MasterDictionary,'positive-words.txt')\n",
        "negative_words_list_path = os.path.join(MasterDictionary,'negative-words.txt')"
      ],
      "metadata": {
        "id": "TJ2wxN7TEhvZ"
      },
      "execution_count": null,
      "outputs": []
    },
    {
      "cell_type": "code",
      "source": [
        "positive = set()\n",
        "negative = set()"
      ],
      "metadata": {
        "id": "9w6PbdqsDJiw"
      },
      "execution_count": null,
      "outputs": []
    },
    {
      "cell_type": "code",
      "source": [
        "def make_set(file_path,set_name):\n",
        "    # Open the file in read mode ('r')\n",
        "    with open(file_path, 'rb') as f:\n",
        "        encoding = chardet.detect(f.read())['encoding']\n",
        "\n",
        "    with open(file_path, 'r', encoding=encoding) as f:\n",
        "        for word_newline in f:\n",
        "            word_newline = word_newline.lower()\n",
        "            word = re.sub('\\n','',word_newline)\n",
        "            set_name.add(word)"
      ],
      "metadata": {
        "id": "iR1BYvDQp86h"
      },
      "execution_count": null,
      "outputs": []
    },
    {
      "cell_type": "code",
      "source": [
        "make_set(positive_words_list_path,positive)"
      ],
      "metadata": {
        "id": "PepSVZoAp8_P"
      },
      "execution_count": null,
      "outputs": []
    },
    {
      "cell_type": "code",
      "source": [
        "make_set(negative_words_list_path,negative)"
      ],
      "metadata": {
        "id": "Vet6HBZBp9DS"
      },
      "execution_count": null,
      "outputs": []
    },
    {
      "cell_type": "code",
      "source": [
        "def find_stopWords(stopwords_path):\n",
        "    set_stopWords = set()\n",
        "\n",
        "    for stop_word_file in os.listdir(stopwords_path):\n",
        "        stop_word_file_path = os.path.join(stopwords_path,stop_word_file)\n",
        "        # print(stop_word_file)\n",
        "\n",
        "        with open(stop_word_file_path, 'rb') as f:\n",
        "            encoding = chardet.detect(f.read())['encoding']\n",
        "\n",
        "        with open(stop_word_file_path, 'r', encoding=encoding) as f:\n",
        "            for word_newline in f:\n",
        "                word_newline = re.split('\\|',word_newline)[0].strip()\n",
        "                word_newline = word_newline.lower()\n",
        "                word = re.sub('\\n','',word_newline)\n",
        "                set_stopWords.add(word)\n",
        "\n",
        "    return set_stopWords"
      ],
      "metadata": {
        "id": "GXYBccC_qvvc"
      },
      "execution_count": null,
      "outputs": []
    },
    {
      "cell_type": "code",
      "source": [
        "set_stopWords = find_stopWords(StopWords_path)"
      ],
      "metadata": {
        "id": "-JwEebeSFqW5"
      },
      "execution_count": null,
      "outputs": []
    },
    {
      "cell_type": "code",
      "source": [
        "positive_dictionary = positive.difference(positive.intersection(set_stopWords))"
      ],
      "metadata": {
        "id": "WJdcWzf97q0V"
      },
      "execution_count": null,
      "outputs": []
    },
    {
      "cell_type": "code",
      "source": [
        "negative_dictionary = negative.difference(negative.intersection(set_stopWords))"
      ],
      "metadata": {
        "id": "Rx8HN229D38r"
      },
      "execution_count": null,
      "outputs": []
    },
    {
      "cell_type": "code",
      "source": [
        "with open('/content/drive/MyDrive/Blackcoffer/Extracted Text/blackassign0037.txt', 'rb') as f:\n",
        "        encoding = chardet.detect(f.read())['encoding']\n",
        "\n",
        "with open('/content/drive/MyDrive/Blackcoffer/Extracted Text/blackassign0037.txt','r',encoding=encoding) as file:\n",
        "    text = file.read()"
      ],
      "metadata": {
        "id": "0D7vRKXxgl8o"
      },
      "execution_count": null,
      "outputs": []
    },
    {
      "cell_type": "markdown",
      "source": [
        "Word and Sentence Tokens"
      ],
      "metadata": {
        "id": "d3X2QJs2AvDG"
      }
    },
    {
      "cell_type": "code",
      "source": [
        "def word_tokenize(text):\n",
        "    # Removing punctuations by splitting\n",
        "    # at any of below characters .,!&?;:\\-\\s()\n",
        "    pattern = r\"[.,!&?;:\\-\\s()\\\"]+\"\n",
        "\n",
        "    # Tokenize the text\n",
        "    word_tokens = re.split(pattern, text)\n",
        "\n",
        "    # Remove empty tokens\n",
        "    word_tokens = [token for token in word_tokens if token]\n",
        "    return word_tokens"
      ],
      "metadata": {
        "id": "4h4Yc15Jmi4S"
      },
      "execution_count": null,
      "outputs": []
    },
    {
      "cell_type": "code",
      "source": [
        "word_tokens = word_tokenize(text)\n",
        "sent_tokens = sent_tokenize(text, language='english')\n",
        "sent_count = len(sent_tokens)\n",
        "word_tokens_count = len(word_tokens)"
      ],
      "metadata": {
        "id": "5ftssw4XfcIy"
      },
      "execution_count": null,
      "outputs": []
    },
    {
      "cell_type": "code",
      "source": [
        "word_tokens_count,sent_count"
      ],
      "metadata": {
        "colab": {
          "base_uri": "https://localhost:8080/"
        },
        "id": "_ibcnCHGgVAz",
        "outputId": "18f6d4c8-4b95-463d-961e-358efcca1f34"
      },
      "execution_count": null,
      "outputs": [
        {
          "output_type": "execute_result",
          "data": {
            "text/plain": [
              "(732, 36)"
            ]
          },
          "metadata": {},
          "execution_count": 153
        }
      ]
    },
    {
      "cell_type": "markdown",
      "source": [
        "Positive and Negative score"
      ],
      "metadata": {
        "id": "w4wxFp6IAqn2"
      }
    },
    {
      "cell_type": "code",
      "source": [
        "def pos_and_neg_score(tokens_list):\n",
        "    positive_score,negative_score = 0,0\n",
        "    for token in tokens_list:\n",
        "        if token.lower() in positive_dictionary:\n",
        "            positive_score += 1\n",
        "\n",
        "        elif token.lower() in negative_dictionary:\n",
        "            negative_score -= 1\n",
        "\n",
        "    negative_score *= -1\n",
        "    return positive_score,negative_score"
      ],
      "metadata": {
        "id": "-2u79THChYO3"
      },
      "execution_count": null,
      "outputs": []
    },
    {
      "cell_type": "code",
      "source": [
        "positive_score,negative_score = pos_and_neg_score(word_tokens)"
      ],
      "metadata": {
        "id": "C8X5YCQHhqeg"
      },
      "execution_count": null,
      "outputs": []
    },
    {
      "cell_type": "code",
      "source": [
        "positive_score,negative_score"
      ],
      "metadata": {
        "colab": {
          "base_uri": "https://localhost:8080/"
        },
        "id": "6gpomnOEht5m",
        "outputId": "79909884-18ea-47ab-dcb5-09dcd8753f74"
      },
      "execution_count": null,
      "outputs": [
        {
          "output_type": "execute_result",
          "data": {
            "text/plain": [
              "(32, 13)"
            ]
          },
          "metadata": {},
          "execution_count": 124
        }
      ]
    },
    {
      "cell_type": "markdown",
      "source": [
        "Polarity score"
      ],
      "metadata": {
        "id": "G5-wCk8qAleY"
      }
    },
    {
      "cell_type": "code",
      "source": [
        "def polarity_score(positive_score,negative_score):\n",
        "    polarity_Score = (positive_score - negative_score)/ ((positive_score + negative_score) + 0.000001)\n",
        "    return polarity_Score"
      ],
      "metadata": {
        "id": "FVstTTuLg00M"
      },
      "execution_count": null,
      "outputs": []
    },
    {
      "cell_type": "code",
      "source": [
        "polarity_score(positive_score,negative_score)"
      ],
      "metadata": {
        "colab": {
          "base_uri": "https://localhost:8080/"
        },
        "id": "lvyqxf-8jBMt",
        "outputId": "a6fc446c-7a69-4807-bca7-bdc75ec7ad77"
      },
      "execution_count": null,
      "outputs": [
        {
          "output_type": "execute_result",
          "data": {
            "text/plain": [
              "0.4222222128395064"
            ]
          },
          "metadata": {},
          "execution_count": 126
        }
      ]
    },
    {
      "cell_type": "markdown",
      "source": [
        "Word count (cleaned words)"
      ],
      "metadata": {
        "id": "hkdPRxnVAgvR"
      }
    },
    {
      "cell_type": "code",
      "source": [
        "def clean_words(word_tokens):\n",
        "    from nltk.corpus import stopwords\n",
        "    stopwords_nltk = stopwords.words('english')\n",
        "\n",
        "    # Punctuations already removed\n",
        "    # Stopword removal using NLTK\n",
        "    words_cleaned = [w for w in word_tokens if (w not in stopwords_nltk)]\n",
        "\n",
        "    words_count = len(words_cleaned)\n",
        "    return words_count"
      ],
      "metadata": {
        "id": "9CKEsGhaVbC5"
      },
      "execution_count": null,
      "outputs": []
    },
    {
      "cell_type": "code",
      "source": [
        "words_count = clean_words(word_tokens)\n",
        "words_count"
      ],
      "metadata": {
        "colab": {
          "base_uri": "https://localhost:8080/"
        },
        "id": "SLi1SaQRwyrs",
        "outputId": "01a6043e-d0d5-456f-e29f-14de614e5428"
      },
      "execution_count": null,
      "outputs": [
        {
          "output_type": "execute_result",
          "data": {
            "text/plain": [
              "446"
            ]
          },
          "metadata": {},
          "execution_count": 130
        }
      ]
    },
    {
      "cell_type": "markdown",
      "source": [
        "Subjectivity score"
      ],
      "metadata": {
        "id": "qcNu40iAAb8n"
      }
    },
    {
      "cell_type": "code",
      "source": [
        "def subjectivity_score(positive_score,negative_score,words_count):\n",
        "    subjectivity_Score = (positive_score + negative_score)/(words_count + 0.000001)\n",
        "    return subjectivity_Score"
      ],
      "metadata": {
        "id": "UTeQfUWpOArf"
      },
      "execution_count": null,
      "outputs": []
    },
    {
      "cell_type": "code",
      "source": [
        "subjectivity_score(positive_score,negative_score,words_count)"
      ],
      "metadata": {
        "colab": {
          "base_uri": "https://localhost:8080/"
        },
        "id": "v5jO0iWhOC6k",
        "outputId": "8fbd6da7-a797-4dd9-8513-1c5cf1a3173e"
      },
      "execution_count": null,
      "outputs": [
        {
          "output_type": "execute_result",
          "data": {
            "text/plain": [
              "0.10089686076032094"
            ]
          },
          "metadata": {},
          "execution_count": 132
        }
      ]
    },
    {
      "cell_type": "markdown",
      "source": [
        "Average sentence length / Average number of words per sentence"
      ],
      "metadata": {
        "id": "SroOll1RALXA"
      }
    },
    {
      "cell_type": "code",
      "source": [
        "def average_sentence_length(word_tokens_count,sent_count):\n",
        "    average_sent_length = word_tokens_count/sent_count\n",
        "    return average_sent_length"
      ],
      "metadata": {
        "id": "AgnrmWK_ayhh"
      },
      "execution_count": null,
      "outputs": []
    },
    {
      "cell_type": "code",
      "source": [
        "avg_sentence_length = average_sentence_length(word_tokens_count,sent_count)\n",
        "avg_no_of_words_per_sentence = average_sentence_length(word_tokens_count,sent_count)"
      ],
      "metadata": {
        "id": "4Q_vrcsecXWf"
      },
      "execution_count": null,
      "outputs": []
    },
    {
      "cell_type": "code",
      "source": [
        "avg_sentence_length"
      ],
      "metadata": {
        "colab": {
          "base_uri": "https://localhost:8080/"
        },
        "id": "x4d1NP5JHgdc",
        "outputId": "15acfd25-a3b5-4363-d7f4-5af5c76134ef"
      },
      "execution_count": null,
      "outputs": [
        {
          "output_type": "execute_result",
          "data": {
            "text/plain": [
              "20.333333333333332"
            ]
          },
          "metadata": {},
          "execution_count": 135
        }
      ]
    },
    {
      "cell_type": "markdown",
      "source": [
        "Syllabe count & Complex words"
      ],
      "metadata": {
        "id": "1FZrw4EbBKXW"
      }
    },
    {
      "cell_type": "code",
      "source": [
        "syllable_dict = cmudict.dict()"
      ],
      "metadata": {
        "id": "UvLS72JULd9_"
      },
      "execution_count": null,
      "outputs": []
    },
    {
      "cell_type": "code",
      "source": [
        "def count_syllables(word):\n",
        "    if word.lower() not in syllable_dict:    # search for lower case version of the word in dictionary\n",
        "        return 0\n",
        "    return [len(list(y for y in x if y[-1].isdigit())) for x in syllable_dict[word.lower()]][0]\n",
        "                                               # return number of syllable\n",
        "\n",
        "def is_complex(word):\n",
        "    syllable_count = count_syllables(word)\n",
        "    return syllable_count > 2\n",
        "\n",
        "def count_complex_words(words):\n",
        "    total_syllable = 0\n",
        "    for word in words:\n",
        "        word = word.lower()\n",
        "        total_syllable += count_syllables(word)\n",
        "\n",
        "    num_complex_words = sum(is_complex(word) for word in words)\n",
        "    return total_syllable,num_complex_words"
      ],
      "metadata": {
        "id": "r2SjzKYLCmTa"
      },
      "execution_count": null,
      "outputs": []
    },
    {
      "cell_type": "code",
      "source": [
        "total_syllable_count,complex_word_count = count_complex_words(word_tokens)\n",
        "total_syllable_count,complex_word_count"
      ],
      "metadata": {
        "colab": {
          "base_uri": "https://localhost:8080/"
        },
        "id": "ssV6DkcKEOKa",
        "outputId": "fcda5559-b780-4e8e-e4f6-40883c508293"
      },
      "execution_count": null,
      "outputs": [
        {
          "output_type": "execute_result",
          "data": {
            "text/plain": [
              "(1078, 87)"
            ]
          },
          "metadata": {},
          "execution_count": 138
        }
      ]
    },
    {
      "cell_type": "markdown",
      "source": [
        "Percentage of Complex words"
      ],
      "metadata": {
        "id": "WdZKQY4YLIv1"
      }
    },
    {
      "cell_type": "code",
      "source": [
        "def percent_complex_words(complex_word_count,word_tokens_count):\n",
        "    percent_of_complex_words = complex_word_count/word_tokens_count\n",
        "    return percent_of_complex_words"
      ],
      "metadata": {
        "id": "oSAIBHJWu43o"
      },
      "execution_count": null,
      "outputs": []
    },
    {
      "cell_type": "code",
      "source": [
        "percent_of_complex_words = percent_complex_words(complex_word_count,word_tokens_count)\n",
        "percent_of_complex_words"
      ],
      "metadata": {
        "colab": {
          "base_uri": "https://localhost:8080/"
        },
        "id": "7qTyqVASLH-h",
        "outputId": "14a372f8-b4e3-4adf-fdeb-58c66847a370"
      },
      "execution_count": null,
      "outputs": [
        {
          "output_type": "execute_result",
          "data": {
            "text/plain": [
              "0.11885245901639344"
            ]
          },
          "metadata": {},
          "execution_count": 140
        }
      ]
    },
    {
      "cell_type": "markdown",
      "source": [
        "Fog index"
      ],
      "metadata": {
        "id": "GTc13k4dPWa7"
      }
    },
    {
      "cell_type": "code",
      "source": [
        "def fog_index(average_sentence_length,percent_of_complex_words):\n",
        "    Fog_index = 0.4*(average_sentence_length + percent_of_complex_words)\n",
        "    return Fog_index"
      ],
      "metadata": {
        "id": "PXuY59DVuzCa"
      },
      "execution_count": null,
      "outputs": []
    },
    {
      "cell_type": "code",
      "source": [
        "fog_index(avg_sentence_length,percent_of_complex_words)"
      ],
      "metadata": {
        "colab": {
          "base_uri": "https://localhost:8080/"
        },
        "id": "IT2VMylIME3h",
        "outputId": "42f138ef-b888-4997-8e7d-778bdd258b79"
      },
      "execution_count": null,
      "outputs": [
        {
          "output_type": "execute_result",
          "data": {
            "text/plain": [
              "8.18087431693989"
            ]
          },
          "metadata": {},
          "execution_count": 142
        }
      ]
    },
    {
      "cell_type": "markdown",
      "source": [
        "Personal Pronouns"
      ],
      "metadata": {
        "id": "BL7pc6adX7ph"
      }
    },
    {
      "cell_type": "code",
      "source": [
        "def count_personal_pronouns(word_tokens):\n",
        "    total_personal_pronouns = 0\n",
        "    for word in word_tokens:\n",
        "        pattern = r\"\\b(I|we|my|ours|us)\\b\"   # pattern to check if those words exists\n",
        "        pattern = r\"(?<!\\bUS\\b)\" + pattern   # pattern should not include US instead of us\n",
        "        matches = re.findall(pattern, word, flags=re.IGNORECASE)\n",
        "        total_personal_pronouns += len(matches)\n",
        "    return total_personal_pronouns"
      ],
      "metadata": {
        "id": "tuCED-PQX7CJ"
      },
      "execution_count": null,
      "outputs": []
    },
    {
      "cell_type": "code",
      "source": [
        "count_personal_pronouns(word_tokens)"
      ],
      "metadata": {
        "colab": {
          "base_uri": "https://localhost:8080/"
        },
        "id": "dkd-JDTLYPha",
        "outputId": "db26b944-14a1-494d-8450-7ac5b46ecb65"
      },
      "execution_count": null,
      "outputs": [
        {
          "output_type": "execute_result",
          "data": {
            "text/plain": [
              "2"
            ]
          },
          "metadata": {},
          "execution_count": 144
        }
      ]
    },
    {
      "cell_type": "markdown",
      "source": [
        "Average Word Length"
      ],
      "metadata": {
        "id": "b6BzR88vV4vF"
      }
    },
    {
      "cell_type": "code",
      "source": [
        "def average_word_length(word_tokens):\n",
        "    word_length = 0\n",
        "\n",
        "    for word in word_tokens:\n",
        "        word_length += len(word)\n",
        "\n",
        "    avg_word_length = word_length/len(word_tokens)\n",
        "\n",
        "    return avg_word_length"
      ],
      "metadata": {
        "id": "cZudPc_jVPSb"
      },
      "execution_count": null,
      "outputs": []
    },
    {
      "cell_type": "code",
      "source": [
        "average_word_length(word_tokens)"
      ],
      "metadata": {
        "colab": {
          "base_uri": "https://localhost:8080/"
        },
        "id": "tSCptoORXfYL",
        "outputId": "851cd856-9b4f-4e4d-a814-d706d57d603b"
      },
      "execution_count": null,
      "outputs": [
        {
          "output_type": "execute_result",
          "data": {
            "text/plain": [
              "4.796448087431694"
            ]
          },
          "metadata": {},
          "execution_count": 146
        }
      ]
    },
    {
      "cell_type": "code",
      "source": [],
      "metadata": {
        "id": "F628-YCIK7q-"
      },
      "execution_count": null,
      "outputs": []
    },
    {
      "cell_type": "code",
      "source": [
        "Extracted_text_path = '/content/drive/MyDrive/Blackcoffer/Extracted Text/'"
      ],
      "metadata": {
        "id": "TPsOs41_K7to"
      },
      "execution_count": null,
      "outputs": []
    },
    {
      "cell_type": "code",
      "source": [
        "syllable_dict = cmudict.dict()\n",
        "\n",
        "for i in range(len(input)):\n",
        "    file_name = input['URL_ID'][i]\n",
        "    URL = input['URL'][i]\n",
        "\n",
        "    raw_html = requests.get(URL)\n",
        "    if raw_html.status_code == 404:\n",
        "        print(f\"{URL} with {file_name} URL_ID doesn't exist\")\n",
        "        continue\n",
        "\n",
        "    text_file_path = os.path.join(Extracted_text_path,file_name+'.txt')\n",
        "\n",
        "    with open(text_file_path, 'rb') as f:\n",
        "        encoding = chardet.detect(f.read())['encoding']\n",
        "\n",
        "    # Open the file in read mode ('r')\n",
        "    with open(text_file_path,'r',encoding=encoding) as file:\n",
        "        text = file.read()\n",
        "\n",
        "    # Tokenization of words and sentences\n",
        "    word_tokens = word_tokenize(text)\n",
        "    sent_tokens = sent_tokenize(text, language='english')\n",
        "\n",
        "    # Count of word and sentence tokens\n",
        "    sent_count = len(sent_tokens)\n",
        "    word_tokens_count = len(word_tokens)\n",
        "\n",
        "    # Count of cleaned words (after removal of stopwords and punctuations)\n",
        "    words_count = clean_words(word_tokens)\n",
        "\n",
        "    # Positive and Negative Scores\n",
        "    positive_Score,negative_Score = pos_and_neg_score(word_tokens)\n",
        "\n",
        "    # Polarity Score\n",
        "    polarity_Score = round(polarity_score(positive_Score,negative_Score),4)\n",
        "\n",
        "    # Subjectivity Score\n",
        "    subjectivity_Score = round(subjectivity_score(positive_Score,negative_Score,words_count),4)\n",
        "\n",
        "    # Average sentence length\n",
        "    avg_sentence_length = round(average_sentence_length(word_tokens_count,sent_count),4)\n",
        "\n",
        "    # Average no of words per sentence\n",
        "    avg_no_of_words_per_sentence = round(average_sentence_length(word_tokens_count,sent_count),4)\n",
        "\n",
        "    # Syllable count and Complex word count\n",
        "    total_syllable_count, complex_word_count = count_complex_words(word_tokens)\n",
        "\n",
        "    # Percentage of complex words\n",
        "    percent_of_complex_words = round(percent_complex_words(complex_word_count,word_tokens_count),4)\n",
        "\n",
        "    # Fog Index\n",
        "    fog_Index = round(fog_index(avg_sentence_length,percent_of_complex_words),4)\n",
        "\n",
        "    # Personal Pronouns\n",
        "    total_Personal_Pronouns = count_personal_pronouns(word_tokens)\n",
        "\n",
        "    # Average word length\n",
        "    avg_word_length = round(average_word_length(word_tokens),4)\n",
        "\n",
        "    print(f'''File: {file_name+'.txt'},\n",
        "              Positive Score: {positive_Score}, Negative Score: {negative_Score}, Polarity Score: {polarity_Score}, Subjectivity Score: {subjectivity_Score},\n",
        "              Average sentence length: {avg_sentence_length}, Percentage of complex words: {percent_of_complex_words}, Fog Index: {fog_Index},\n",
        "              Average no of words per sentence:{avg_no_of_words_per_sentence}, Complex Word count: {complex_word_count}, Word Count: {words_count},\n",
        "              Syllable count: {total_syllable_count}, Personal Pronouns: {total_Personal_Pronouns}, Average Word length: {avg_word_length}\n",
        "            ''')"
      ],
      "metadata": {
        "colab": {
          "base_uri": "https://localhost:8080/"
        },
        "id": "rYoSpSqlK7wa",
        "outputId": "7fee1bf0-4a3f-439c-bb5a-35ed7a999fad"
      },
      "execution_count": null,
      "outputs": [
        {
          "output_type": "stream",
          "name": "stdout",
          "text": [
            "File: blackassign0001.txt,\n",
            "              Positive Score: 27, Negative Score: 6, Polarity Score: 0.6364, Subjectivity Score: 0.0445,\n",
            "              Average sentence length: 15.7564, Percentage of complex words: 0.1229, Fog Index: 6.3517, \n",
            "              Average no of words per sentence:15.7564, Complex Word count: 151, Word Count: 742, \n",
            "              Syllable count: 1826, Personal Pronouns: 12, Average Word length: 4.5574\n",
            "            \n",
            "File: blackassign0002.txt,\n",
            "              Positive Score: 52, Negative Score: 31, Polarity Score: 0.253, Subjectivity Score: 0.0888,\n",
            "              Average sentence length: 18.575, Percentage of complex words: 0.2254, Fog Index: 7.5202, \n",
            "              Average no of words per sentence:18.575, Complex Word count: 335, Word Count: 935, \n",
            "              Syllable count: 2657, Personal Pronouns: 6, Average Word length: 5.426\n",
            "            \n",
            "File: blackassign0003.txt,\n",
            "              Positive Score: 36, Negative Score: 25, Polarity Score: 0.1803, Subjectivity Score: 0.0841,\n",
            "              Average sentence length: 18.9474, Percentage of complex words: 0.3102, Fog Index: 7.703, \n",
            "              Average no of words per sentence:18.9474, Complex Word count: 335, Word Count: 725, \n",
            "              Syllable count: 2166, Personal Pronouns: 13, Average Word length: 6.0444\n",
            "            \n",
            "File: blackassign0004.txt,\n",
            "              Positive Score: 35, Negative Score: 74, Polarity Score: -0.3578, Subjectivity Score: 0.1555,\n",
            "              Average sentence length: 20.3846, Percentage of complex words: 0.2566, Fog Index: 8.2565, \n",
            "              Average no of words per sentence:20.3846, Complex Word count: 272, Word Count: 701, \n",
            "              Syllable count: 1919, Personal Pronouns: 5, Average Word length: 5.9179\n",
            "            \n",
            "File: blackassign0005.txt,\n",
            "              Positive Score: 21, Negative Score: 9, Polarity Score: 0.4, Subjectivity Score: 0.0665,\n",
            "              Average sentence length: 17.9744, Percentage of complex words: 0.2054, Fog Index: 7.2719, \n",
            "              Average no of words per sentence:17.9744, Complex Word count: 144, Word Count: 451, \n",
            "              Syllable count: 1221, Personal Pronouns: 6, Average Word length: 5.3909\n",
            "            \n",
            "File: blackassign0006.txt,\n",
            "              Positive Score: 88, Negative Score: 27, Polarity Score: 0.5304, Subjectivity Score: 0.0926,\n",
            "              Average sentence length: 21.2955, Percentage of complex words: 0.2727, Fog Index: 8.6273, \n",
            "              Average no of words per sentence:21.2955, Complex Word count: 511, Word Count: 1242, \n",
            "              Syllable count: 3576, Personal Pronouns: 6, Average Word length: 5.8549\n",
            "            \n",
            "File: blackassign0007.txt,\n",
            "              Positive Score: 30, Negative Score: 68, Polarity Score: -0.3878, Subjectivity Score: 0.1176,\n",
            "              Average sentence length: 17.2895, Percentage of complex words: 0.1796, Fog Index: 6.9876, \n",
            "              Average no of words per sentence:17.2895, Complex Word count: 236, Word Count: 833, \n",
            "              Syllable count: 2097, Personal Pronouns: 1, Average Word length: 5.2443\n",
            "            \n",
            "File: blackassign0008.txt,\n",
            "              Positive Score: 27, Negative Score: 9, Polarity Score: 0.5, Subjectivity Score: 0.0662,\n",
            "              Average sentence length: 16.3542, Percentage of complex words: 0.3223, Fog Index: 6.6706, \n",
            "              Average no of words per sentence:16.3542, Complex Word count: 253, Word Count: 544, \n",
            "              Syllable count: 1574, Personal Pronouns: 3, Average Word length: 6.1529\n",
            "            \n",
            "File: blackassign0009.txt,\n",
            "              Positive Score: 37, Negative Score: 53, Polarity Score: -0.1778, Subjectivity Score: 0.1322,\n",
            "              Average sentence length: 16.7895, Percentage of complex words: 0.278, Fog Index: 6.827, \n",
            "              Average no of words per sentence:16.7895, Complex Word count: 266, Word Count: 681, \n",
            "              Syllable count: 1831, Personal Pronouns: 3, Average Word length: 6.2079\n",
            "            \n",
            "File: blackassign0010.txt,\n",
            "              Positive Score: 127, Negative Score: 185, Polarity Score: -0.1859, Subjectivity Score: 0.1438,\n",
            "              Average sentence length: 15.521, Percentage of complex words: 0.1871, Fog Index: 6.2832, \n",
            "              Average no of words per sentence:15.521, Complex Word count: 691, Word Count: 2169, \n",
            "              Syllable count: 5935, Personal Pronouns: 13, Average Word length: 5.3522\n",
            "            \n",
            "File: blackassign0011.txt,\n",
            "              Positive Score: 56, Negative Score: 21, Polarity Score: 0.4545, Subjectivity Score: 0.0827,\n",
            "              Average sentence length: 21.597, Percentage of complex words: 0.2751, Fog Index: 8.7488, \n",
            "              Average no of words per sentence:21.597, Complex Word count: 398, Word Count: 931, \n",
            "              Syllable count: 2714, Personal Pronouns: 3, Average Word length: 5.7471\n",
            "            \n",
            "File: blackassign0012.txt,\n",
            "              Positive Score: 77, Negative Score: 23, Polarity Score: 0.54, Subjectivity Score: 0.0951,\n",
            "              Average sentence length: 20.975, Percentage of complex words: 0.2229, Fog Index: 8.4792, \n",
            "              Average no of words per sentence:20.975, Complex Word count: 374, Word Count: 1051, \n",
            "              Syllable count: 3064, Personal Pronouns: 2, Average Word length: 5.5465\n",
            "            \n",
            "File: blackassign0013.txt,\n",
            "              Positive Score: 38, Negative Score: 13, Polarity Score: 0.4902, Subjectivity Score: 0.1401,\n",
            "              Average sentence length: 25.04, Percentage of complex words: 0.2173, Fog Index: 10.1029, \n",
            "              Average no of words per sentence:25.04, Complex Word count: 136, Word Count: 364, \n",
            "              Syllable count: 1089, Personal Pronouns: 3, Average Word length: 5.2796\n",
            "            \n",
            "File: blackassign0014.txt,\n",
            "              Positive Score: 19, Negative Score: 27, Polarity Score: -0.1739, Subjectivity Score: 0.0658,\n",
            "              Average sentence length: 16.0725, Percentage of complex words: 0.2002, Fog Index: 6.5091, \n",
            "              Average no of words per sentence:16.0725, Complex Word count: 222, Word Count: 699, \n",
            "              Syllable count: 1772, Personal Pronouns: 3, Average Word length: 5.1344\n",
            "            \n",
            "File: blackassign0015.txt,\n",
            "              Positive Score: 34, Negative Score: 26, Polarity Score: 0.1333, Subjectivity Score: 0.0743,\n",
            "              Average sentence length: 20.85, Percentage of complex words: 0.2134, Fog Index: 8.4254, \n",
            "              Average no of words per sentence:20.85, Complex Word count: 267, Word Count: 808, \n",
            "              Syllable count: 2116, Personal Pronouns: 7, Average Word length: 5.3997\n",
            "            \n",
            "File: blackassign0016.txt,\n",
            "              Positive Score: 34, Negative Score: 26, Polarity Score: 0.1333, Subjectivity Score: 0.0743,\n",
            "              Average sentence length: 20.85, Percentage of complex words: 0.2134, Fog Index: 8.4254, \n",
            "              Average no of words per sentence:20.85, Complex Word count: 267, Word Count: 808, \n",
            "              Syllable count: 2116, Personal Pronouns: 7, Average Word length: 5.3997\n",
            "            \n",
            "File: blackassign0017.txt,\n",
            "              Positive Score: 48, Negative Score: 11, Polarity Score: 0.6271, Subjectivity Score: 0.0795,\n",
            "              Average sentence length: 18.0308, Percentage of complex words: 0.2235, Fog Index: 7.3017, \n",
            "              Average no of words per sentence:18.0308, Complex Word count: 262, Word Count: 742, \n",
            "              Syllable count: 1963, Personal Pronouns: 5, Average Word length: 5.4377\n",
            "            \n",
            "File: blackassign0018.txt,\n",
            "              Positive Score: 30, Negative Score: 10, Polarity Score: 0.5, Subjectivity Score: 0.0562,\n",
            "              Average sentence length: 24.5333, Percentage of complex words: 0.2192, Fog Index: 9.901, \n",
            "              Average no of words per sentence:24.5333, Complex Word count: 242, Word Count: 712, \n",
            "              Syllable count: 1851, Personal Pronouns: 1, Average Word length: 5.3216\n",
            "            \n",
            "File: blackassign0019.txt,\n",
            "              Positive Score: 57, Negative Score: 6, Polarity Score: 0.8095, Subjectivity Score: 0.0605,\n",
            "              Average sentence length: 18.3579, Percentage of complex words: 0.2305, Fog Index: 7.4354, \n",
            "              Average no of words per sentence:18.3579, Complex Word count: 402, Word Count: 1042, \n",
            "              Syllable count: 2902, Personal Pronouns: 5, Average Word length: 5.285\n",
            "            \n",
            "File: blackassign0020.txt,\n",
            "              Positive Score: 6, Negative Score: 0, Polarity Score: 1.0, Subjectivity Score: 0.021,\n",
            "              Average sentence length: 19.7778, Percentage of complex words: 0.1386, Fog Index: 7.9666, \n",
            "              Average no of words per sentence:19.7778, Complex Word count: 74, Word Count: 286, \n",
            "              Syllable count: 813, Personal Pronouns: 1, Average Word length: 5.0506\n",
            "            \n",
            "File: blackassign0021.txt,\n",
            "              Positive Score: 22, Negative Score: 48, Polarity Score: -0.3714, Subjectivity Score: 0.1095,\n",
            "              Average sentence length: 20.5, Percentage of complex words: 0.2449, Fog Index: 8.298, \n",
            "              Average no of words per sentence:20.5, Complex Word count: 251, Word Count: 639, \n",
            "              Syllable count: 1876, Personal Pronouns: 6, Average Word length: 5.5493\n",
            "            \n",
            "File: blackassign0022.txt,\n",
            "              Positive Score: 10, Negative Score: 10, Polarity Score: 0.0, Subjectivity Score: 0.0866,\n",
            "              Average sentence length: 15.3333, Percentage of complex words: 0.1884, Fog Index: 6.2087, \n",
            "              Average no of words per sentence:15.3333, Complex Word count: 78, Word Count: 231, \n",
            "              Syllable count: 677, Personal Pronouns: 6, Average Word length: 4.9976\n",
            "            \n",
            "File: blackassign0023.txt,\n",
            "              Positive Score: 26, Negative Score: 14, Polarity Score: 0.3, Subjectivity Score: 0.0487,\n",
            "              Average sentence length: 21.7969, Percentage of complex words: 0.1634, Fog Index: 8.7841, \n",
            "              Average no of words per sentence:21.7969, Complex Word count: 228, Word Count: 821, \n",
            "              Syllable count: 2262, Personal Pronouns: 7, Average Word length: 4.9477\n",
            "            \n",
            "File: blackassign0024.txt,\n",
            "              Positive Score: 23, Negative Score: 3, Polarity Score: 0.7692, Subjectivity Score: 0.0728,\n",
            "              Average sentence length: 27.5238, Percentage of complex words: 0.218, Fog Index: 11.0967, \n",
            "              Average no of words per sentence:27.5238, Complex Word count: 126, Word Count: 357, \n",
            "              Syllable count: 952, Personal Pronouns: 1, Average Word length: 5.1073\n",
            "            \n",
            "File: blackassign0025.txt,\n",
            "              Positive Score: 13, Negative Score: 10, Polarity Score: 0.1304, Subjectivity Score: 0.0347,\n",
            "              Average sentence length: 40.6923, Percentage of complex words: 0.1418, Fog Index: 16.3336, \n",
            "              Average no of words per sentence:40.6923, Complex Word count: 150, Word Count: 663, \n",
            "              Syllable count: 1507, Personal Pronouns: 6, Average Word length: 4.6616\n",
            "            \n",
            "File: blackassign0026.txt,\n",
            "              Positive Score: 21, Negative Score: 15, Polarity Score: 0.1667, Subjectivity Score: 0.061,\n",
            "              Average sentence length: 22.0732, Percentage of complex words: 0.2144, Fog Index: 8.915, \n",
            "              Average no of words per sentence:22.0732, Complex Word count: 194, Word Count: 590, \n",
            "              Syllable count: 1506, Personal Pronouns: 2, Average Word length: 5.116\n",
            "            \n",
            "File: blackassign0027.txt,\n",
            "              Positive Score: 23, Negative Score: 29, Polarity Score: -0.1154, Subjectivity Score: 0.068,\n",
            "              Average sentence length: 25.4717, Percentage of complex words: 0.1407, Fog Index: 10.245, \n",
            "              Average no of words per sentence:25.4717, Complex Word count: 190, Word Count: 765, \n",
            "              Syllable count: 1994, Personal Pronouns: 27, Average Word length: 4.583\n",
            "            \n",
            "File: blackassign0028.txt,\n",
            "              Positive Score: 28, Negative Score: 24, Polarity Score: 0.0769, Subjectivity Score: 0.0742,\n",
            "              Average sentence length: 29.2564, Percentage of complex words: 0.1814, Fog Index: 11.7751, \n",
            "              Average no of words per sentence:29.2564, Complex Word count: 207, Word Count: 701, \n",
            "              Syllable count: 1793, Personal Pronouns: 10, Average Word length: 5.1823\n",
            "            \n",
            "File: blackassign0029.txt,\n",
            "              Positive Score: 63, Negative Score: 34, Polarity Score: 0.299, Subjectivity Score: 0.0804,\n",
            "              Average sentence length: 23.5714, Percentage of complex words: 0.2275, Fog Index: 9.5196, \n",
            "              Average no of words per sentence:23.5714, Complex Word count: 413, Word Count: 1206, \n",
            "              Syllable count: 3233, Personal Pronouns: 1, Average Word length: 5.5763\n",
            "            \n",
            "File: blackassign0030.txt,\n",
            "              Positive Score: 58, Negative Score: 37, Polarity Score: 0.2211, Subjectivity Score: 0.1157,\n",
            "              Average sentence length: 17.8, Percentage of complex words: 0.1447, Fog Index: 7.1779, \n",
            "              Average no of words per sentence:17.8, Complex Word count: 206, Word Count: 821, \n",
            "              Syllable count: 2199, Personal Pronouns: 7, Average Word length: 4.7963\n",
            "            \n",
            "File: blackassign0031.txt,\n",
            "              Positive Score: 65, Negative Score: 35, Polarity Score: 0.3, Subjectivity Score: 0.0946,\n",
            "              Average sentence length: 20.0588, Percentage of complex words: 0.2117, Fog Index: 8.1082, \n",
            "              Average no of words per sentence:20.0588, Complex Word count: 361, Word Count: 1057, \n",
            "              Syllable count: 3001, Personal Pronouns: 3, Average Word length: 5.3848\n",
            "            \n",
            "File: blackassign0032.txt,\n",
            "              Positive Score: 66, Negative Score: 28, Polarity Score: 0.4043, Subjectivity Score: 0.095,\n",
            "              Average sentence length: 17.4316, Percentage of complex words: 0.1534, Fog Index: 7.034, \n",
            "              Average no of words per sentence:17.4316, Complex Word count: 254, Word Count: 989, \n",
            "              Syllable count: 2617, Personal Pronouns: 18, Average Word length: 4.7699\n",
            "            \n",
            "File: blackassign0033.txt,\n",
            "              Positive Score: 59, Negative Score: 27, Polarity Score: 0.3721, Subjectivity Score: 0.0799,\n",
            "              Average sentence length: 22.3544, Percentage of complex words: 0.1755, Fog Index: 9.012, \n",
            "              Average no of words per sentence:22.3544, Complex Word count: 310, Word Count: 1077, \n",
            "              Syllable count: 2835, Personal Pronouns: 18, Average Word length: 5.0176\n",
            "            \n",
            "File: blackassign0034.txt,\n",
            "              Positive Score: 43, Negative Score: 25, Polarity Score: 0.2647, Subjectivity Score: 0.0901,\n",
            "              Average sentence length: 20.9677, Percentage of complex words: 0.1577, Fog Index: 8.4502, \n",
            "              Average no of words per sentence:20.9677, Complex Word count: 205, Word Count: 755, \n",
            "              Syllable count: 2067, Personal Pronouns: 21, Average Word length: 4.9892\n",
            "            \n",
            "File: blackassign0035.txt,\n",
            "              Positive Score: 22, Negative Score: 11, Polarity Score: 0.3333, Subjectivity Score: 0.0748,\n",
            "              Average sentence length: 16.5556, Percentage of complex words: 0.1705, Fog Index: 6.6904, \n",
            "              Average no of words per sentence:16.5556, Complex Word count: 127, Word Count: 441, \n",
            "              Syllable count: 1211, Personal Pronouns: 7, Average Word length: 5.004\n",
            "            \n",
            "https://insights.blackcoffer.com/how-neural-networks-can-be-applied-in-various-areas-in-the-future/ with blackassign0036 URL_ID doesn't exist\n",
            "File: blackassign0037.txt,\n",
            "              Positive Score: 32, Negative Score: 13, Polarity Score: 0.4222, Subjectivity Score: 0.1009,\n",
            "              Average sentence length: 20.3333, Percentage of complex words: 0.1189, Fog Index: 8.1809, \n",
            "              Average no of words per sentence:20.3333, Complex Word count: 87, Word Count: 446, \n",
            "              Syllable count: 1078, Personal Pronouns: 2, Average Word length: 4.7964\n",
            "            \n",
            "File: blackassign0038.txt,\n",
            "              Positive Score: 65, Negative Score: 34, Polarity Score: 0.3131, Subjectivity Score: 0.0772,\n",
            "              Average sentence length: 27.0123, Percentage of complex words: 0.1654, Fog Index: 10.8711, \n",
            "              Average no of words per sentence:27.0123, Complex Word count: 362, Word Count: 1283, \n",
            "              Syllable count: 3444, Personal Pronouns: 11, Average Word length: 4.8679\n",
            "            \n",
            "File: blackassign0039.txt,\n",
            "              Positive Score: 49, Negative Score: 58, Polarity Score: -0.0841, Subjectivity Score: 0.0837,\n",
            "              Average sentence length: 19.1714, Percentage of complex words: 0.1575, Fog Index: 7.7316, \n",
            "              Average no of words per sentence:19.1714, Complex Word count: 317, Word Count: 1279, \n",
            "              Syllable count: 3043, Personal Pronouns: 1, Average Word length: 5.0904\n",
            "            \n",
            "File: blackassign0040.txt,\n",
            "              Positive Score: 33, Negative Score: 23, Polarity Score: 0.1786, Subjectivity Score: 0.0759,\n",
            "              Average sentence length: 20.7414, Percentage of complex words: 0.2153, Fog Index: 8.3827, \n",
            "              Average no of words per sentence:20.7414, Complex Word count: 259, Word Count: 738, \n",
            "              Syllable count: 2086, Personal Pronouns: 10, Average Word length: 5.4863\n",
            "            \n",
            "File: blackassign0041.txt,\n",
            "              Positive Score: 33, Negative Score: 28, Polarity Score: 0.082, Subjectivity Score: 0.0746,\n",
            "              Average sentence length: 15.2195, Percentage of complex words: 0.1635, Fog Index: 6.1532, \n",
            "              Average no of words per sentence:15.2195, Complex Word count: 204, Word Count: 818, \n",
            "              Syllable count: 1932, Personal Pronouns: 6, Average Word length: 4.9463\n",
            "            \n",
            "File: blackassign0042.txt,\n",
            "              Positive Score: 58, Negative Score: 24, Polarity Score: 0.4146, Subjectivity Score: 0.0871,\n",
            "              Average sentence length: 27.4127, Percentage of complex words: 0.1349, Fog Index: 11.019, \n",
            "              Average no of words per sentence:27.4127, Complex Word count: 233, Word Count: 941, \n",
            "              Syllable count: 2669, Personal Pronouns: 33, Average Word length: 4.7852\n",
            "            \n",
            "File: blackassign0043.txt,\n",
            "              Positive Score: 66, Negative Score: 21, Polarity Score: 0.5172, Subjectivity Score: 0.0853,\n",
            "              Average sentence length: 19.9759, Percentage of complex words: 0.1846, Fog Index: 8.0642, \n",
            "              Average no of words per sentence:19.9759, Complex Word count: 306, Word Count: 1020, \n",
            "              Syllable count: 2727, Personal Pronouns: 11, Average Word length: 5.0561\n",
            "            \n",
            "File: blackassign0044.txt,\n",
            "              Positive Score: 24, Negative Score: 0, Polarity Score: 1.0, Subjectivity Score: 0.0738,\n",
            "              Average sentence length: 23.4545, Percentage of complex words: 0.2229, Fog Index: 9.471, \n",
            "              Average no of words per sentence:23.4545, Complex Word count: 115, Word Count: 325, \n",
            "              Syllable count: 908, Personal Pronouns: 0, Average Word length: 5.3295\n",
            "            \n",
            "File: blackassign0045.txt,\n",
            "              Positive Score: 77, Negative Score: 39, Polarity Score: 0.3276, Subjectivity Score: 0.1208,\n",
            "              Average sentence length: 201.6667, Percentage of complex words: 0.1455, Fog Index: 80.7249, \n",
            "              Average no of words per sentence:201.6667, Complex Word count: 264, Word Count: 960, \n",
            "              Syllable count: 2804, Personal Pronouns: 16, Average Word length: 4.7609\n",
            "            \n",
            "File: blackassign0046.txt,\n",
            "              Positive Score: 23, Negative Score: 0, Polarity Score: 1.0, Subjectivity Score: 0.0388,\n",
            "              Average sentence length: 17.0526, Percentage of complex words: 0.2181, Fog Index: 6.9083, \n",
            "              Average no of words per sentence:17.0526, Complex Word count: 212, Word Count: 593, \n",
            "              Syllable count: 1623, Personal Pronouns: 0, Average Word length: 5.1451\n",
            "            \n",
            "File: blackassign0047.txt,\n",
            "              Positive Score: 15, Negative Score: 5, Polarity Score: 0.5, Subjectivity Score: 0.0446,\n",
            "              Average sentence length: 17.4048, Percentage of complex words: 0.264, Fog Index: 7.0675, \n",
            "              Average no of words per sentence:17.4048, Complex Word count: 193, Word Count: 448, \n",
            "              Syllable count: 1323, Personal Pronouns: 1, Average Word length: 5.4555\n",
            "            \n",
            "File: blackassign0048.txt,\n",
            "              Positive Score: 3, Negative Score: 4, Polarity Score: -0.1429, Subjectivity Score: 0.0345,\n",
            "              Average sentence length: 27.0833, Percentage of complex words: 0.1969, Fog Index: 10.9121, \n",
            "              Average no of words per sentence:27.0833, Complex Word count: 64, Word Count: 203, \n",
            "              Syllable count: 557, Personal Pronouns: 2, Average Word length: 5.2769\n",
            "            \n",
            "https://insights.blackcoffer.com/covid-19-environmental-impact-for-the-future/ with blackassign0049 URL_ID doesn't exist\n",
            "File: blackassign0050.txt,\n",
            "              Positive Score: 24, Negative Score: 68, Polarity Score: -0.4783, Subjectivity Score: 0.1104,\n",
            "              Average sentence length: 24.9286, Percentage of complex words: 0.1683, Fog Index: 10.0388, \n",
            "              Average no of words per sentence:24.9286, Complex Word count: 235, Word Count: 833, \n",
            "              Syllable count: 2230, Personal Pronouns: 2, Average Word length: 5.0322\n",
            "            \n",
            "File: blackassign0051.txt,\n",
            "              Positive Score: 16, Negative Score: 14, Polarity Score: 0.0667, Subjectivity Score: 0.0677,\n",
            "              Average sentence length: 25.6207, Percentage of complex words: 0.175, Fog Index: 10.3183, \n",
            "              Average no of words per sentence:25.6207, Complex Word count: 130, Word Count: 443, \n",
            "              Syllable count: 1169, Personal Pronouns: 5, Average Word length: 4.821\n",
            "            \n",
            "File: blackassign0052.txt,\n",
            "              Positive Score: 57, Negative Score: 42, Polarity Score: 0.1515, Subjectivity Score: 0.0916,\n",
            "              Average sentence length: 17.5495, Percentage of complex words: 0.1617, Fog Index: 7.0845, \n",
            "              Average no of words per sentence:17.5495, Complex Word count: 315, Word Count: 1081, \n",
            "              Syllable count: 3074, Personal Pronouns: 10, Average Word length: 4.8414\n",
            "            \n",
            "File: blackassign0053.txt,\n",
            "              Positive Score: 40, Negative Score: 3, Polarity Score: 0.8605, Subjectivity Score: 0.1036,\n",
            "              Average sentence length: 15.3864, Percentage of complex words: 0.1846, Fog Index: 6.2284, \n",
            "              Average no of words per sentence:15.3864, Complex Word count: 125, Word Count: 415, \n",
            "              Syllable count: 1139, Personal Pronouns: 4, Average Word length: 5.0916\n",
            "            \n",
            "File: blackassign0054.txt,\n",
            "              Positive Score: 4, Negative Score: 1, Polarity Score: 0.6, Subjectivity Score: 0.0206,\n",
            "              Average sentence length: 22.5882, Percentage of complex words: 0.1224, Fog Index: 9.0842, \n",
            "              Average no of words per sentence:22.5882, Complex Word count: 47, Word Count: 243, \n",
            "              Syllable count: 560, Personal Pronouns: 0, Average Word length: 4.9089\n",
            "            \n",
            "File: blackassign0055.txt,\n",
            "              Positive Score: 24, Negative Score: 9, Polarity Score: 0.4545, Subjectivity Score: 0.0452,\n",
            "              Average sentence length: 23.6122, Percentage of complex words: 0.1461, Fog Index: 9.5033, \n",
            "              Average no of words per sentence:23.6122, Complex Word count: 169, Word Count: 730, \n",
            "              Syllable count: 1740, Personal Pronouns: 4, Average Word length: 4.771\n",
            "            \n",
            "File: blackassign0056.txt,\n",
            "              Positive Score: 24, Negative Score: 8, Polarity Score: 0.5, Subjectivity Score: 0.0798,\n",
            "              Average sentence length: 25.9583, Percentage of complex words: 0.2311, Fog Index: 10.4758, \n",
            "              Average no of words per sentence:25.9583, Complex Word count: 144, Word Count: 401, \n",
            "              Syllable count: 1099, Personal Pronouns: 1, Average Word length: 5.3403\n",
            "            \n",
            "File: blackassign0057.txt,\n",
            "              Positive Score: 14, Negative Score: 9, Polarity Score: 0.2174, Subjectivity Score: 0.1095,\n",
            "              Average sentence length: 13.7143, Percentage of complex words: 0.1693, Fog Index: 5.5534, \n",
            "              Average no of words per sentence:13.7143, Complex Word count: 65, Word Count: 210, \n",
            "              Syllable count: 650, Personal Pronouns: 0, Average Word length: 5.1458\n",
            "            \n",
            "File: blackassign0058.txt,\n",
            "              Positive Score: 4, Negative Score: 0, Polarity Score: 1.0, Subjectivity Score: 0.04,\n",
            "              Average sentence length: 14.3636, Percentage of complex words: 0.2152, Fog Index: 5.8315, \n",
            "              Average no of words per sentence:14.3636, Complex Word count: 34, Word Count: 100, \n",
            "              Syllable count: 300, Personal Pronouns: 2, Average Word length: 5.3797\n",
            "            \n",
            "File: blackassign0059.txt,\n",
            "              Positive Score: 19, Negative Score: 37, Polarity Score: -0.3214, Subjectivity Score: 0.1189,\n",
            "              Average sentence length: 14.5536, Percentage of complex words: 0.1227, Fog Index: 5.8705, \n",
            "              Average no of words per sentence:14.5536, Complex Word count: 100, Word Count: 471, \n",
            "              Syllable count: 1223, Personal Pronouns: 19, Average Word length: 4.6896\n",
            "            \n",
            "File: blackassign0060.txt,\n",
            "              Positive Score: 5, Negative Score: 2, Polarity Score: 0.4286, Subjectivity Score: 0.0619,\n",
            "              Average sentence length: 18.6, Percentage of complex words: 0.1344, Fog Index: 7.4938, \n",
            "              Average no of words per sentence:18.6, Complex Word count: 25, Word Count: 113, \n",
            "              Syllable count: 291, Personal Pronouns: 1, Average Word length: 4.7419\n",
            "            \n",
            "File: blackassign0061.txt,\n",
            "              Positive Score: 52, Negative Score: 18, Polarity Score: 0.4857, Subjectivity Score: 0.0921,\n",
            "              Average sentence length: 19.6833, Percentage of complex words: 0.2227, Fog Index: 7.9624, \n",
            "              Average no of words per sentence:19.6833, Complex Word count: 263, Word Count: 760, \n",
            "              Syllable count: 2062, Personal Pronouns: 0, Average Word length: 5.5521\n",
            "            \n",
            "File: blackassign0062.txt,\n",
            "              Positive Score: 7, Negative Score: 18, Polarity Score: -0.44, Subjectivity Score: 0.076,\n",
            "              Average sentence length: 27.15, Percentage of complex words: 0.1952, Fog Index: 10.9381, \n",
            "              Average no of words per sentence:27.15, Complex Word count: 106, Word Count: 329, \n",
            "              Syllable count: 884, Personal Pronouns: 11, Average Word length: 4.9245\n",
            "            \n",
            "File: blackassign0063.txt,\n",
            "              Positive Score: 21, Negative Score: 37, Polarity Score: -0.2759, Subjectivity Score: 0.0945,\n",
            "              Average sentence length: 21.0, Percentage of complex words: 0.1681, Fog Index: 8.4672, \n",
            "              Average no of words per sentence:21.0, Complex Word count: 180, Word Count: 614, \n",
            "              Syllable count: 1721, Personal Pronouns: 7, Average Word length: 4.7824\n",
            "            \n",
            "File: blackassign0064.txt,\n",
            "              Positive Score: 26, Negative Score: 49, Polarity Score: -0.3067, Subjectivity Score: 0.073,\n",
            "              Average sentence length: 23.3243, Percentage of complex words: 0.2155, Fog Index: 9.4159, \n",
            "              Average no of words per sentence:23.3243, Complex Word count: 372, Word Count: 1028, \n",
            "              Syllable count: 2915, Personal Pronouns: 16, Average Word length: 5.3384\n",
            "            \n",
            "File: blackassign0065.txt,\n",
            "              Positive Score: 42, Negative Score: 22, Polarity Score: 0.3125, Subjectivity Score: 0.0668,\n",
            "              Average sentence length: 25.4638, Percentage of complex words: 0.1383, Fog Index: 10.2408, \n",
            "              Average no of words per sentence:25.4638, Complex Word count: 243, Word Count: 958, \n",
            "              Syllable count: 2631, Personal Pronouns: 20, Average Word length: 4.7057\n",
            "            \n",
            "File: blackassign0066.txt,\n",
            "              Positive Score: 32, Negative Score: 24, Polarity Score: 0.1429, Subjectivity Score: 0.0624,\n",
            "              Average sentence length: 18.0, Percentage of complex words: 0.1504, Fog Index: 7.2602, \n",
            "              Average no of words per sentence:18.0, Complex Word count: 222, Word Count: 897, \n",
            "              Syllable count: 2215, Personal Pronouns: 18, Average Word length: 4.7805\n",
            "            \n",
            "File: blackassign0067.txt,\n",
            "              Positive Score: 24, Negative Score: 7, Polarity Score: 0.5484, Subjectivity Score: 0.0689,\n",
            "              Average sentence length: 14.2903, Percentage of complex words: 0.1242, Fog Index: 5.7658, \n",
            "              Average no of words per sentence:14.2903, Complex Word count: 110, Word Count: 450, \n",
            "              Syllable count: 1287, Personal Pronouns: 1, Average Word length: 4.5214\n",
            "            \n",
            "File: blackassign0068.txt,\n",
            "              Positive Score: 38, Negative Score: 8, Polarity Score: 0.6522, Subjectivity Score: 0.0632,\n",
            "              Average sentence length: 21.4848, Percentage of complex words: 0.1283, Fog Index: 8.6452, \n",
            "              Average no of words per sentence:21.4848, Complex Word count: 182, Word Count: 728, \n",
            "              Syllable count: 2031, Personal Pronouns: 4, Average Word length: 4.5515\n",
            "            \n",
            "File: blackassign0069.txt,\n",
            "              Positive Score: 26, Negative Score: 6, Polarity Score: 0.625, Subjectivity Score: 0.1265,\n",
            "              Average sentence length: 27.6471, Percentage of complex words: 0.1702, Fog Index: 11.1269, \n",
            "              Average no of words per sentence:27.6471, Complex Word count: 80, Word Count: 253, \n",
            "              Syllable count: 725, Personal Pronouns: 8, Average Word length: 4.6766\n",
            "            \n",
            "File: blackassign0070.txt,\n",
            "              Positive Score: 38, Negative Score: 16, Polarity Score: 0.4074, Subjectivity Score: 0.0541,\n",
            "              Average sentence length: 23.1429, Percentage of complex words: 0.179, Fog Index: 9.3288, \n",
            "              Average no of words per sentence:23.1429, Complex Word count: 290, Word Count: 999, \n",
            "              Syllable count: 2629, Personal Pronouns: 8, Average Word length: 5.0519\n",
            "            \n",
            "File: blackassign0071.txt,\n",
            "              Positive Score: 23, Negative Score: 73, Polarity Score: -0.5208, Subjectivity Score: 0.1661,\n",
            "              Average sentence length: 12.974, Percentage of complex words: 0.1241, Fog Index: 5.2392, \n",
            "              Average no of words per sentence:12.974, Complex Word count: 124, Word Count: 578, \n",
            "              Syllable count: 1477, Personal Pronouns: 13, Average Word length: 4.7167\n",
            "            \n",
            "File: blackassign0072.txt,\n",
            "              Positive Score: 61, Negative Score: 23, Polarity Score: 0.4524, Subjectivity Score: 0.1286,\n",
            "              Average sentence length: 14.7625, Percentage of complex words: 0.1236, Fog Index: 5.9544, \n",
            "              Average no of words per sentence:14.7625, Complex Word count: 146, Word Count: 653, \n",
            "              Syllable count: 1698, Personal Pronouns: 5, Average Word length: 4.5826\n",
            "            \n",
            "File: blackassign0073.txt,\n",
            "              Positive Score: 24, Negative Score: 44, Polarity Score: -0.2941, Subjectivity Score: 0.0907,\n",
            "              Average sentence length: 25.7447, Percentage of complex words: 0.138, Fog Index: 10.3531, \n",
            "              Average no of words per sentence:25.7447, Complex Word count: 167, Word Count: 750, \n",
            "              Syllable count: 1781, Personal Pronouns: 6, Average Word length: 4.8868\n",
            "            \n",
            "File: blackassign0074.txt,\n",
            "              Positive Score: 30, Negative Score: 24, Polarity Score: 0.1111, Subjectivity Score: 0.0594,\n",
            "              Average sentence length: 17.8902, Percentage of complex words: 0.1875, Fog Index: 7.2311, \n",
            "              Average no of words per sentence:17.8902, Complex Word count: 275, Word Count: 909, \n",
            "              Syllable count: 2442, Personal Pronouns: 10, Average Word length: 5.0934\n",
            "            \n",
            "File: blackassign0075.txt,\n",
            "              Positive Score: 23, Negative Score: 82, Polarity Score: -0.5619, Subjectivity Score: 0.171,\n",
            "              Average sentence length: 13.3418, Percentage of complex words: 0.1271, Fog Index: 5.3876, \n",
            "              Average no of words per sentence:13.3418, Complex Word count: 134, Word Count: 614, \n",
            "              Syllable count: 1568, Personal Pronouns: 15, Average Word length: 4.7524\n",
            "            \n",
            "File: blackassign0076.txt,\n",
            "              Positive Score: 37, Negative Score: 35, Polarity Score: 0.0278, Subjectivity Score: 0.0797,\n",
            "              Average sentence length: 29.4259, Percentage of complex words: 0.1611, Fog Index: 11.8348, \n",
            "              Average no of words per sentence:29.4259, Complex Word count: 256, Word Count: 903, \n",
            "              Syllable count: 2438, Personal Pronouns: 5, Average Word length: 4.7596\n",
            "            \n",
            "File: blackassign0077.txt,\n",
            "              Positive Score: 23, Negative Score: 13, Polarity Score: 0.2778, Subjectivity Score: 0.0788,\n",
            "              Average sentence length: 33.6087, Percentage of complex words: 0.1591, Fog Index: 13.5071, \n",
            "              Average no of words per sentence:33.6087, Complex Word count: 123, Word Count: 457, \n",
            "              Syllable count: 1254, Personal Pronouns: 1, Average Word length: 5.0983\n",
            "            \n",
            "File: blackassign0078.txt,\n",
            "              Positive Score: 36, Negative Score: 24, Polarity Score: 0.2, Subjectivity Score: 0.0815,\n",
            "              Average sentence length: 32.5946, Percentage of complex words: 0.1857, Fog Index: 13.1121, \n",
            "              Average no of words per sentence:32.5946, Complex Word count: 224, Word Count: 736, \n",
            "              Syllable count: 2014, Personal Pronouns: 1, Average Word length: 5.2935\n",
            "            \n",
            "File: blackassign0079.txt,\n",
            "              Positive Score: 30, Negative Score: 52, Polarity Score: -0.2683, Subjectivity Score: 0.0802,\n",
            "              Average sentence length: 23.6986, Percentage of complex words: 0.1717, Fog Index: 9.5481, \n",
            "              Average no of words per sentence:23.6986, Complex Word count: 297, Word Count: 1023, \n",
            "              Syllable count: 2709, Personal Pronouns: 6, Average Word length: 5.0249\n",
            "            \n",
            "File: blackassign0080.txt,\n",
            "              Positive Score: 32, Negative Score: 12, Polarity Score: 0.4545, Subjectivity Score: 0.017,\n",
            "              Average sentence length: 18.2872, Percentage of complex words: 0.1186, Fog Index: 7.3623, \n",
            "              Average no of words per sentence:18.2872, Complex Word count: 423, Word Count: 2587, \n",
            "              Syllable count: 4791, Personal Pronouns: 2, Average Word length: 4.7159\n",
            "            \n",
            "File: blackassign0081.txt,\n",
            "              Positive Score: 32, Negative Score: 41, Polarity Score: -0.1233, Subjectivity Score: 0.0718,\n",
            "              Average sentence length: 21.3855, Percentage of complex words: 0.1718, Fog Index: 8.6229, \n",
            "              Average no of words per sentence:21.3855, Complex Word count: 305, Word Count: 1017, \n",
            "              Syllable count: 2825, Personal Pronouns: 12, Average Word length: 4.9651\n",
            "            \n",
            "File: blackassign0082.txt,\n",
            "              Positive Score: 28, Negative Score: 68, Polarity Score: -0.4167, Subjectivity Score: 0.0959,\n",
            "              Average sentence length: 25.4667, Percentage of complex words: 0.248, Fog Index: 10.2859, \n",
            "              Average no of words per sentence:25.4667, Complex Word count: 379, Word Count: 1001, \n",
            "              Syllable count: 2722, Personal Pronouns: 0, Average Word length: 5.4398\n",
            "            \n",
            "File: blackassign0083.txt,\n",
            "              Positive Score: 3, Negative Score: 3, Polarity Score: 0.0, Subjectivity Score: 0.0588,\n",
            "              Average sentence length: 19.2222, Percentage of complex words: 0.1329, Fog Index: 7.742, \n",
            "              Average no of words per sentence:19.2222, Complex Word count: 23, Word Count: 102, \n",
            "              Syllable count: 258, Personal Pronouns: 2, Average Word length: 4.659\n",
            "            \n",
            "File: blackassign0084.txt,\n",
            "              Positive Score: 29, Negative Score: 4, Polarity Score: 0.7576, Subjectivity Score: 0.0537,\n",
            "              Average sentence length: 22.4545, Percentage of complex words: 0.1255, Fog Index: 9.032, \n",
            "              Average no of words per sentence:22.4545, Complex Word count: 124, Word Count: 614, \n",
            "              Syllable count: 1416, Personal Pronouns: 2, Average Word length: 4.8644\n",
            "            \n",
            "File: blackassign0085.txt,\n",
            "              Positive Score: 38, Negative Score: 32, Polarity Score: 0.0857, Subjectivity Score: 0.0678,\n",
            "              Average sentence length: 15.4, Percentage of complex words: 0.1753, Fog Index: 6.2301, \n",
            "              Average no of words per sentence:15.4, Complex Word count: 324, Word Count: 1032, \n",
            "              Syllable count: 2903, Personal Pronouns: 6, Average Word length: 4.8588\n",
            "            \n",
            "File: blackassign0086.txt,\n",
            "              Positive Score: 48, Negative Score: 15, Polarity Score: 0.5238, Subjectivity Score: 0.0576,\n",
            "              Average sentence length: 18.9255, Percentage of complex words: 0.1709, Fog Index: 7.6386, \n",
            "              Average no of words per sentence:18.9255, Complex Word count: 304, Word Count: 1093, \n",
            "              Syllable count: 2698, Personal Pronouns: 5, Average Word length: 5.0129\n",
            "            \n",
            "File: blackassign0087.txt,\n",
            "              Positive Score: 29, Negative Score: 32, Polarity Score: -0.0492, Subjectivity Score: 0.0944,\n",
            "              Average sentence length: 22.7447, Percentage of complex words: 0.1562, Fog Index: 9.1604, \n",
            "              Average no of words per sentence:22.7447, Complex Word count: 167, Word Count: 646, \n",
            "              Syllable count: 1646, Personal Pronouns: 3, Average Word length: 4.9523\n",
            "            \n",
            "File: blackassign0088.txt,\n",
            "              Positive Score: 17, Negative Score: 41, Polarity Score: -0.4138, Subjectivity Score: 0.0488,\n",
            "              Average sentence length: 29.7419, Percentage of complex words: 0.1996, Fog Index: 11.9766, \n",
            "              Average no of words per sentence:29.7419, Complex Word count: 368, Word Count: 1189, \n",
            "              Syllable count: 2973, Personal Pronouns: 1, Average Word length: 5.0976\n",
            "            \n",
            "File: blackassign0089.txt,\n",
            "              Positive Score: 14, Negative Score: 42, Polarity Score: -0.5, Subjectivity Score: 0.0946,\n",
            "              Average sentence length: 18.9423, Percentage of complex words: 0.1695, Fog Index: 7.6447, \n",
            "              Average no of words per sentence:18.9423, Complex Word count: 167, Word Count: 592, \n",
            "              Syllable count: 1559, Personal Pronouns: 6, Average Word length: 4.9147\n",
            "            \n",
            "File: blackassign0090.txt,\n",
            "              Positive Score: 32, Negative Score: 48, Polarity Score: -0.2, Subjectivity Score: 0.1187,\n",
            "              Average sentence length: 16.4054, Percentage of complex words: 0.159, Fog Index: 6.6258, \n",
            "              Average no of words per sentence:16.4054, Complex Word count: 193, Word Count: 674, \n",
            "              Syllable count: 1907, Personal Pronouns: 37, Average Word length: 4.8048\n",
            "            \n",
            "File: blackassign0091.txt,\n",
            "              Positive Score: 21, Negative Score: 27, Polarity Score: -0.125, Subjectivity Score: 0.0748,\n",
            "              Average sentence length: 29.3421, Percentage of complex words: 0.1767, Fog Index: 11.8075, \n",
            "              Average no of words per sentence:29.3421, Complex Word count: 197, Word Count: 642, \n",
            "              Syllable count: 1812, Personal Pronouns: 12, Average Word length: 4.8906\n",
            "            \n",
            "File: blackassign0092.txt,\n",
            "              Positive Score: 22, Negative Score: 46, Polarity Score: -0.3529, Subjectivity Score: 0.0743,\n",
            "              Average sentence length: 22.1695, Percentage of complex words: 0.1705, Fog Index: 8.936, \n",
            "              Average no of words per sentence:22.1695, Complex Word count: 223, Word Count: 915, \n",
            "              Syllable count: 2016, Personal Pronouns: 5, Average Word length: 5.13\n",
            "            \n",
            "File: blackassign0093.txt,\n",
            "              Positive Score: 3, Negative Score: 3, Polarity Score: 0.0, Subjectivity Score: 0.0513,\n",
            "              Average sentence length: 16.5, Percentage of complex words: 0.1212, Fog Index: 6.6485, \n",
            "              Average no of words per sentence:16.5, Complex Word count: 24, Word Count: 117, \n",
            "              Syllable count: 279, Personal Pronouns: 2, Average Word length: 4.4242\n",
            "            \n",
            "File: blackassign0094.txt,\n",
            "              Positive Score: 28, Negative Score: 45, Polarity Score: -0.2329, Subjectivity Score: 0.108,\n",
            "              Average sentence length: 18.2381, Percentage of complex words: 0.1488, Fog Index: 7.3548, \n",
            "              Average no of words per sentence:18.2381, Complex Word count: 171, Word Count: 676, \n",
            "              Syllable count: 1763, Personal Pronouns: 13, Average Word length: 4.7937\n",
            "            \n",
            "File: blackassign0095.txt,\n",
            "              Positive Score: 6, Negative Score: 24, Polarity Score: -0.6, Subjectivity Score: 0.0714,\n",
            "              Average sentence length: 18.4571, Percentage of complex words: 0.1563, Fog Index: 7.4454, \n",
            "              Average no of words per sentence:18.4571, Complex Word count: 101, Word Count: 420, \n",
            "              Syllable count: 966, Personal Pronouns: 4, Average Word length: 4.887\n",
            "            \n",
            "File: blackassign0096.txt,\n",
            "              Positive Score: 24, Negative Score: 54, Polarity Score: -0.3846, Subjectivity Score: 0.1106,\n",
            "              Average sentence length: 22.4314, Percentage of complex words: 0.2019, Fog Index: 9.0533, \n",
            "              Average no of words per sentence:22.4314, Complex Word count: 231, Word Count: 705, \n",
            "              Syllable count: 1921, Personal Pronouns: 4, Average Word length: 5.1495\n",
            "            \n",
            "File: blackassign0097.txt,\n",
            "              Positive Score: 21, Negative Score: 35, Polarity Score: -0.25, Subjectivity Score: 0.1009,\n",
            "              Average sentence length: 28.6053, Percentage of complex words: 0.1426, Fog Index: 11.4992, \n",
            "              Average no of words per sentence:28.6053, Complex Word count: 155, Word Count: 555, \n",
            "              Syllable count: 1633, Personal Pronouns: 7, Average Word length: 4.6661\n",
            "            \n",
            "File: blackassign0098.txt,\n",
            "              Positive Score: 6, Negative Score: 2, Polarity Score: 0.5, Subjectivity Score: 0.0289,\n",
            "              Average sentence length: 31.0769, Percentage of complex words: 0.2525, Fog Index: 12.5318, \n",
            "              Average no of words per sentence:31.0769, Complex Word count: 102, Word Count: 277, \n",
            "              Syllable count: 687, Personal Pronouns: 0, Average Word length: 5.3861\n",
            "            \n",
            "File: blackassign0099.txt,\n",
            "              Positive Score: 11, Negative Score: 3, Polarity Score: 0.5714, Subjectivity Score: 0.0354,\n",
            "              Average sentence length: 20.0, Percentage of complex words: 0.1177, Fog Index: 8.0471, \n",
            "              Average no of words per sentence:20.0, Complex Word count: 73, Word Count: 395, \n",
            "              Syllable count: 873, Personal Pronouns: 4, Average Word length: 4.6081\n",
            "            \n",
            "File: blackassign0100.txt,\n",
            "              Positive Score: 30, Negative Score: 58, Polarity Score: -0.3182, Subjectivity Score: 0.1352,\n",
            "              Average sentence length: 32.3939, Percentage of complex words: 0.1815, Fog Index: 13.0302, \n",
            "              Average no of words per sentence:32.3939, Complex Word count: 194, Word Count: 651, \n",
            "              Syllable count: 1699, Personal Pronouns: 3, Average Word length: 5.1497\n",
            "            \n"
          ]
        }
      ]
    }
  ]
}